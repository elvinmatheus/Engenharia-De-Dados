{
 "cells": [
  {
   "cell_type": "markdown",
   "id": "a4b6fffd-329a-4f3b-96f7-3a58679584c3",
   "metadata": {},
   "source": [
    "# Lendo e gravando dados no PostgreSQL"
   ]
  },
  {
   "cell_type": "code",
   "execution_count": 1,
   "id": "ecc0525a-289a-4d31-9493-852931ffa7ad",
   "metadata": {},
   "outputs": [
    {
     "name": "stderr",
     "output_type": "stream",
     "text": [
      "23/09/16 16:32:04 WARN Utils: Your hostname, elvin-Aspire-E1-571 resolves to a loopback address: 127.0.1.1; using 192.168.236.183 instead (on interface wlp3s0)\n",
      "23/09/16 16:32:04 WARN Utils: Set SPARK_LOCAL_IP if you need to bind to another address\n",
      "Setting default log level to \"WARN\".\n",
      "To adjust logging level use sc.setLogLevel(newLevel). For SparkR, use setLogLevel(newLevel).\n",
      "23/09/16 16:32:07 WARN NativeCodeLoader: Unable to load native-hadoop library for your platform... using builtin-java classes where applicable\n"
     ]
    }
   ],
   "source": [
    "import findspark\n",
    "findspark.init()\n",
    "\n",
    "from pyspark.sql import SparkSession\n",
    "\n",
    "spark = SparkSession.builder.master('local[*]').getOrCreate()"
   ]
  },
  {
   "cell_type": "markdown",
   "id": "c490c620-93bb-4c8a-bd64-835466890606",
   "metadata": {},
   "source": [
    "## Lendo do PostgreSQL"
   ]
  },
  {
   "cell_type": "code",
   "execution_count": 2,
   "id": "fbd8627a-e1d6-45b1-b9bb-64a0a96d2198",
   "metadata": {},
   "outputs": [],
   "source": [
    "resumo = spark.read.format(\"jdbc\") \\\n",
    "            .option(\"url\", \"jdbc:postgresql://localhost:5432/vendas\") \\\n",
    "            .option(\"dbtable\", \"Vendas\") \\\n",
    "            .option(\"user\", \"postgres\") \\\n",
    "            .option(\"password\", \"123456\") \\\n",
    "            .option(\"driver\",\"org.postgresql.Driver\") \\\n",
    "            .load()"
   ]
  },
  {
   "cell_type": "code",
   "execution_count": 3,
   "id": "729a7429-8e66-4cd3-89d4-0556cd9e6b28",
   "metadata": {},
   "outputs": [
    {
     "name": "stderr",
     "output_type": "stream",
     "text": [
      "[Stage 0:>                                                          (0 + 1) / 1]\r"
     ]
    },
    {
     "name": "stdout",
     "output_type": "stream",
     "text": [
      "+-------+----------+---------+----------+--------+\n",
      "|idvenda|idvendedor|idcliente|      data|   total|\n",
      "+-------+----------+---------+----------+--------+\n",
      "|      1|         1|        1|2016-01-01| 8053.60|\n",
      "|      2|         6|      185|2016-01-01|  150.40|\n",
      "|      3|         7|       31|2016-01-02| 6087.00|\n",
      "|      4|         5|        1|2016-01-02|13828.60|\n",
      "|      5|         8|      120|2016-01-03|26096.66|\n",
      "|      6|         9|       74|2016-01-04|18402.00|\n",
      "|      7|         9|      191|2016-01-06| 7524.20|\n",
      "|      8|         6|        2|2016-01-06|12036.60|\n",
      "|      9|         7|       91|2016-01-06| 2804.75|\n",
      "|     10|         2|      202|2016-01-06| 8852.00|\n",
      "|     11|         1|        3|2016-01-08|16545.25|\n",
      "|     12|         7|       32|2016-01-09|11411.88|\n",
      "|     13|         4|      136|2016-01-10|15829.70|\n",
      "|     14|         3|      249|2016-01-12| 6154.36|\n",
      "|     15|         4|        5|2016-01-12| 3255.08|\n",
      "|     16|         7|      192|2016-01-13| 2901.25|\n",
      "|     17|         2|       79|2016-01-13|15829.70|\n",
      "|     18|        10|      136|2016-01-14|16996.36|\n",
      "|     19|        10|      191|2016-01-14|  155.00|\n",
      "|     20|         9|      218|2016-01-15|  131.75|\n",
      "+-------+----------+---------+----------+--------+\n",
      "only showing top 20 rows\n",
      "\n"
     ]
    },
    {
     "name": "stderr",
     "output_type": "stream",
     "text": [
      "                                                                                \r"
     ]
    }
   ],
   "source": [
    "resumo.show()"
   ]
  },
  {
   "cell_type": "code",
   "execution_count": 4,
   "id": "3d01ca32-19c5-438f-beae-017ad2ecf850",
   "metadata": {},
   "outputs": [],
   "source": [
    "clientes = spark.read.format(\"jdbc\") \\\n",
    "            .option(\"url\", \"jdbc:postgresql://localhost:5432/vendas\") \\\n",
    "            .option(\"dbtable\", \"Clientes\") \\\n",
    "            .option(\"user\", \"postgres\") \\\n",
    "            .option(\"password\", \"123456\") \\\n",
    "            .option(\"driver\",\"org.postgresql.Driver\") \\\n",
    "            .load()"
   ]
  },
  {
   "cell_type": "code",
   "execution_count": 5,
   "id": "abc1c8a9-855d-4395-9619-4c0e12423a9a",
   "metadata": {},
   "outputs": [
    {
     "name": "stdout",
     "output_type": "stream",
     "text": [
      "+---------+--------------------+------+----+--------+\n",
      "|idcliente|             cliente|estado|sexo|  status|\n",
      "+---------+--------------------+------+----+--------+\n",
      "|        1|Adelina Buenaventura|    RJ|   M|  Silver|\n",
      "|        2|        Adelino Gago|    RJ|   M|  Silver|\n",
      "|        3|       Adélio Lisboa|    SE|   M|  Silver|\n",
      "|        4|       Adérito Bahía|    MA|   M|  Silver|\n",
      "|        5|     Adolfo Patrício|    PE|   M|  Silver|\n",
      "|        6|    Adriana Guedelha|    RO|   F|Platinum|\n",
      "|        7|       Aida Dorneles|    RN|   F|  Silver|\n",
      "|        8|   Alarico Quinterno|    AC|   M|  Silver|\n",
      "|        9|    Alberto Cezimbra|    AM|   M|  Silver|\n",
      "|       10|    Alberto Monsanto|    RN|   M|    Gold|\n",
      "|       11|       Albino Canela|    AC|   M|  Silver|\n",
      "|       12|     Alceste Varanda|    RR|   F|  Silver|\n",
      "|       13|  Alcides Carvalhais|    RO|   M|  Silver|\n",
      "|       14|        Aldo Martins|    GO|   M|  Silver|\n",
      "|       15|   Alexandra Tabares|    MG|   F|  Silver|\n",
      "|       16|      Alfredo Cotrim|    SC|   M|  Silver|\n",
      "|       17|     Almeno Figueira|    SC|   M|  Silver|\n",
      "|       18|      Alvito Peralta|    AM|   M|  Silver|\n",
      "|       19|     Amadeu Martinho|    RN|   M|  Silver|\n",
      "|       20|      Amélia Estévez|    PE|   F|  Silver|\n",
      "+---------+--------------------+------+----+--------+\n",
      "only showing top 20 rows\n",
      "\n"
     ]
    }
   ],
   "source": [
    "clientes.show()"
   ]
  },
  {
   "cell_type": "markdown",
   "id": "9ca858fa-441c-4e95-bd47-421912f52bc7",
   "metadata": {},
   "source": [
    "## Gravando no PostgreSQL"
   ]
  },
  {
   "cell_type": "code",
   "execution_count": 6,
   "id": "b1ac1f11-63e4-4c5a-a612-01bb5ccc075a",
   "metadata": {},
   "outputs": [],
   "source": [
    "vendadata = resumo.select(\"data\", \"total\")"
   ]
  },
  {
   "cell_type": "code",
   "execution_count": 8,
   "id": "7126d749-ec75-4089-a079-61389146ffef",
   "metadata": {},
   "outputs": [],
   "source": [
    "vendadata.write.format(\"jdbc\") \\\n",
    "            .option(\"url\", \"jdbc:postgresql://localhost:5432/vendas\") \\\n",
    "            .option(\"dbtable\", \"Vendadata\") \\\n",
    "            .option(\"user\", \"postgres\") \\\n",
    "            .option(\"password\", \"123456\") \\\n",
    "            .option(\"driver\",\"org.postgresql.Driver\") \\\n",
    "            .save()"
   ]
  },
  {
   "cell_type": "code",
   "execution_count": null,
   "id": "362b641c-daf8-4d59-987d-c8f828e43592",
   "metadata": {},
   "outputs": [],
   "source": []
  }
 ],
 "metadata": {
  "kernelspec": {
   "display_name": "Python 3 (ipykernel)",
   "language": "python",
   "name": "python3"
  },
  "language_info": {
   "codemirror_mode": {
    "name": "ipython",
    "version": 3
   },
   "file_extension": ".py",
   "mimetype": "text/x-python",
   "name": "python",
   "nbconvert_exporter": "python",
   "pygments_lexer": "ipython3",
   "version": "3.11.5"
  }
 },
 "nbformat": 4,
 "nbformat_minor": 5
}
