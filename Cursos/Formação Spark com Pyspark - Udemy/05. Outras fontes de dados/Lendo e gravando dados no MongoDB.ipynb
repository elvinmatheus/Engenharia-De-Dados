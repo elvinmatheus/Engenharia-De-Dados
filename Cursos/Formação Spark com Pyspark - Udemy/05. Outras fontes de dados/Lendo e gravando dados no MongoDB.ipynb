{
 "cells": [
  {
   "cell_type": "markdown",
   "id": "2d92366f-ec93-4701-be30-9bbd58ec9287",
   "metadata": {},
   "source": [
    "# Lendo e gravando dados no MongoDB"
   ]
  },
  {
   "cell_type": "code",
   "execution_count": 1,
   "id": "eb383cd9-c9c3-4636-9a1b-730fcc1f609d",
   "metadata": {},
   "outputs": [
    {
     "name": "stderr",
     "output_type": "stream",
     "text": [
      "23/09/16 18:25:02 WARN Utils: Your hostname, elvin-Aspire-E1-571 resolves to a loopback address: 127.0.1.1; using 192.168.236.183 instead (on interface wlp3s0)\n",
      "23/09/16 18:25:02 WARN Utils: Set SPARK_LOCAL_IP if you need to bind to another address\n"
     ]
    },
    {
     "name": "stdout",
     "output_type": "stream",
     "text": [
      ":: loading settings :: url = jar:file:/opt/spark/jars/ivy-2.5.1.jar!/org/apache/ivy/core/settings/ivysettings.xml\n"
     ]
    },
    {
     "name": "stderr",
     "output_type": "stream",
     "text": [
      "Ivy Default Cache set to: /home/elvin/.ivy2/cache\n",
      "The jars for the packages stored in: /home/elvin/.ivy2/jars\n",
      "org.mongodb.spark#mongo-spark-connector_2.12 added as a dependency\n",
      ":: resolving dependencies :: org.apache.spark#spark-submit-parent-fa1fcc63-899c-4903-bf35-d626938b0638;1.0\n",
      "\tconfs: [default]\n",
      "\tfound org.mongodb.spark#mongo-spark-connector_2.12;3.0.1 in central\n",
      "\tfound org.mongodb#mongodb-driver-sync;4.0.5 in central\n",
      "\tfound org.mongodb#bson;4.0.5 in central\n",
      "\tfound org.mongodb#mongodb-driver-core;4.0.5 in central\n",
      ":: resolution report :: resolve 358ms :: artifacts dl 17ms\n",
      "\t:: modules in use:\n",
      "\torg.mongodb#bson;4.0.5 from central in [default]\n",
      "\torg.mongodb#mongodb-driver-core;4.0.5 from central in [default]\n",
      "\torg.mongodb#mongodb-driver-sync;4.0.5 from central in [default]\n",
      "\torg.mongodb.spark#mongo-spark-connector_2.12;3.0.1 from central in [default]\n",
      "\t---------------------------------------------------------------------\n",
      "\t|                  |            modules            ||   artifacts   |\n",
      "\t|       conf       | number| search|dwnlded|evicted|| number|dwnlded|\n",
      "\t---------------------------------------------------------------------\n",
      "\t|      default     |   4   |   0   |   0   |   0   ||   4   |   0   |\n",
      "\t---------------------------------------------------------------------\n",
      ":: retrieving :: org.apache.spark#spark-submit-parent-fa1fcc63-899c-4903-bf35-d626938b0638\n",
      "\tconfs: [default]\n",
      "\t0 artifacts copied, 4 already retrieved (0kB/11ms)\n",
      "23/09/16 18:25:03 WARN NativeCodeLoader: Unable to load native-hadoop library for your platform... using builtin-java classes where applicable\n",
      "Setting default log level to \"WARN\".\n",
      "To adjust logging level use sc.setLogLevel(newLevel). For SparkR, use setLogLevel(newLevel).\n",
      "23/09/16 18:25:04 WARN Utils: Service 'SparkUI' could not bind on port 4040. Attempting port 4041.\n"
     ]
    }
   ],
   "source": [
    "import findspark\n",
    "\n",
    "findspark.init()\n",
    "\n",
    "from pyspark.sql import SparkSession\n",
    "\n",
    "spark = SparkSession.builder.master('local[*]') \\\n",
    "            .config(\"spark.jars.packages\", \"org.mongodb.spark:mongo-spark-connector_2.12:3.0.1\") \\\n",
    "            .getOrCreate()"
   ]
  },
  {
   "cell_type": "markdown",
   "id": "e8a5f344-b70c-4544-91be-58060d18019d",
   "metadata": {},
   "source": [
    "## Lendo dados no MongoDB"
   ]
  },
  {
   "cell_type": "code",
   "execution_count": 2,
   "id": "cfd41b27-36bc-493d-9f8a-be7f1ca16255",
   "metadata": {},
   "outputs": [
    {
     "name": "stderr",
     "output_type": "stream",
     "text": [
      "                                                                                \r"
     ]
    }
   ],
   "source": [
    "posts = spark.read.format(\"mongo\").option(\"uri\", \"mongodb://127.0.0.1/posts.post\").load()"
   ]
  },
  {
   "cell_type": "code",
   "execution_count": 3,
   "id": "12aff1de-64de-47b8-acef-a842d7913ba6",
   "metadata": {},
   "outputs": [
    {
     "name": "stdout",
     "output_type": "stream",
     "text": [
      "+--------------------+-----+---------------+--------------------+\n",
      "|                 _id| data|           nome|            postagem|\n",
      "+--------------------+-----+---------------+--------------------+\n",
      "|{65060a7bd85e0d76...|43586| Afonso Silvera|     òtima qualidade|\n",
      "|{65060a7bd85e0d76...|43612| Abraão Salomón|Gostei do atendim...|\n",
      "|{65060a7bd85e0d76...|43591|Adérito Puentes|        Tem de tudo!|\n",
      "|{65060a7bd85e0d76...|43532| Albino Almeida|recomendo, vou vo...|\n",
      "|{65060a7bd85e0d76...|43630|   Aldo Quintão|Não encontrei o q...|\n",
      "|{65060a7bd85e0d76...|43612| Albino Bulhões|      Produtos caros|\n",
      "|{65060a7bd85e0d76...|43507|    Alice Moita|      Produtos caros|\n",
      "|{65060a7bd85e0d76...|43624|  Alice Morgado|Demorou para me a...|\n",
      "|{65060a7bd85e0d76...|43633| Amália Barreto|   Otima localização|\n",
      "|{65060a7bd85e0d76...|43566|   Abílio Serpa|      Produtos caros|\n",
      "|{65060a7bd85e0d76...|43524|  Ana Marroquim|      Produtos caros|\n",
      "|{65060a7bd85e0d76...|43528|Anabela Azeredo|Gostei do atendim...|\n",
      "|{65060a7bd85e0d76...|43520| Anabela Salles|      Produtos caros|\n",
      "|{65060a7bd85e0d76...|43519|Anabela Lousado|Gostei do atendim...|\n",
      "|{65060a7bd85e0d76...|43560| Anacleto Godoi|        Tem de tudo!|\n",
      "|{65060a7bd85e0d76...|43643|  Andreia Aldea|recomendo, vou vo...|\n",
      "|{65060a7bd85e0d76...|43606|  Alvito Gracia|     Muita variedade|\n",
      "|{65060a7bd85e0d76...|43527|   Anita Cachão|      Produtos caros|\n",
      "|{65060a7bd85e0d76...|43604| Anita Sequeira|Não encontrei o q...|\n",
      "|{65060a7bd85e0d76...|43575|  Antero Gusmão|      Produtos caros|\n",
      "+--------------------+-----+---------------+--------------------+\n",
      "only showing top 20 rows\n",
      "\n"
     ]
    }
   ],
   "source": [
    "posts.show()"
   ]
  },
  {
   "cell_type": "markdown",
   "id": "e459ad36-ccbe-407e-b55c-beb63e259850",
   "metadata": {},
   "source": [
    "## Escrevendo dados no mongoDB"
   ]
  },
  {
   "cell_type": "code",
   "execution_count": 4,
   "id": "afbbd094-ec82-47d2-9500-c39e415e802f",
   "metadata": {},
   "outputs": [
    {
     "name": "stderr",
     "output_type": "stream",
     "text": [
      "                                                                                \r"
     ]
    }
   ],
   "source": [
    "posts.write.format(\"mongo\").option(\"uri\",\"mongodb://127.0.0.1/posts2.post\").save()"
   ]
  }
 ],
 "metadata": {
  "kernelspec": {
   "display_name": "Python 3 (ipykernel)",
   "language": "python",
   "name": "python3"
  },
  "language_info": {
   "codemirror_mode": {
    "name": "ipython",
    "version": 3
   },
   "file_extension": ".py",
   "mimetype": "text/x-python",
   "name": "python",
   "nbconvert_exporter": "python",
   "pygments_lexer": "ipython3",
   "version": "3.11.5"
  }
 },
 "nbformat": 4,
 "nbformat_minor": 5
}
