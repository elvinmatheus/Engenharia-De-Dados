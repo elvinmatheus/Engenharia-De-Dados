{
 "cells": [
  {
   "cell_type": "markdown",
   "id": "3e38ec7b-480a-4adf-9190-a7d658745221",
   "metadata": {},
   "source": [
    "## Instalação do MongoDB"
   ]
  },
  {
   "cell_type": "markdown",
   "id": "5e44d22f-ab6a-4037-833a-33c263c7bb6d",
   "metadata": {},
   "source": [
    "No terminal:\n",
    "\n",
    "```\n",
    "sudo apt-get install gnupg curl\n",
    "\n",
    "curl -fsSL https://pgp.mongodb.com/server-7.0.asc | \\\r\n",
    "   sudo gpg -o /usr/share/keyrings/mongodb-server-7.0.gpg \\\r\n",
    "   --dearm\n",
    "\n",
    "echo \"deb [ arch=amd64,arm64 signed-by=/usr/share/keyrings/mongodb-server-7.0.gpg ] https://repo.mongodb.org/apt/ubuntu jammy/mongodb-org/7.0 multiverse\" | sudo tee /etc/apt/sources.list.d/mongodb-org-7.0.list\n",
    "\n",
    "sudo apt-get update\r\n",
    "sudo apt-get install -y mongodb-org\n",
    "or\n",
    "```"
   ]
  },
  {
   "cell_type": "markdown",
   "id": "862467b8-50d9-4954-8e33-7f1b05579447",
   "metadata": {},
   "source": [
    "## Iniciando o mongodb"
   ]
  },
  {
   "cell_type": "markdown",
   "id": "65a22868-9cc3-47b9-811a-409bcb9fd5e9",
   "metadata": {},
   "source": [
    "No terminal:\n",
    "\n",
    "```\n",
    "sudo systemctl start mongod\n",
    "\n",
    "sudo systemctl enable mongod # ensure that MongoDB will start following a system reboot\n",
    "\n",
    "\n",
    "```"
   ]
  },
  {
   "cell_type": "markdown",
   "id": "e520c483-0af4-4f15-b03c-90fd6a4e0149",
   "metadata": {},
   "source": [
    "## Usando o MongoDB"
   ]
  },
  {
   "cell_type": "markdown",
   "id": "8085b5db-ac20-4d77-8053-aff5cdb9403b",
   "metadata": {},
   "source": [
    "No terminal:\n",
    "\n",
    "```\n",
    "mongosh\n",
    "```\n",
    "\n",
    "Em um outro terminal iremos importar os dados\n",
    "\n",
    "```\n",
    "mongoimport --db posts --collection post --legacy --file /home/elvin/download/mongo/posts.json\n",
    "```\n",
    "\n",
    "No programa mongosh, podemos listar o db criado:\n",
    "\n",
    "```\n",
    "show dbs\n",
    "\n",
    "use posts\n",
    "\n",
    "db.post.find()\n",
    "```on"
   ]
  }
 ],
 "metadata": {
  "kernelspec": {
   "display_name": "Python 3 (ipykernel)",
   "language": "python",
   "name": "python3"
  },
  "language_info": {
   "codemirror_mode": {
    "name": "ipython",
    "version": 3
   },
   "file_extension": ".py",
   "mimetype": "text/x-python",
   "name": "python",
   "nbconvert_exporter": "python",
   "pygments_lexer": "ipython3",
   "version": "3.11.5"
  }
 },
 "nbformat": 4,
 "nbformat_minor": 5
}
