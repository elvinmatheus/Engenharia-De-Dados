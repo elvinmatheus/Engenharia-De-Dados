{
 "cells": [
  {
   "cell_type": "markdown",
   "id": "5119ded9-ae91-4e9b-beec-bcbd85467082",
   "metadata": {},
   "source": [
    "## Instalação do PostgreSQL\n",
    "\n",
    "```\n",
    "sudo apt-get update\n",
    "\n",
    "# Create the file repository configuration:\r\n",
    "sudo sh -c 'echo \"deb https://apt.postgresql.org/pub/repos/apt $(lsb_release -cs)-pgdg main\" > /etc/apt/sources.list.d/pgdg.list'\r\n",
    "\r\n",
    "# Import the repository signing key:\r\n",
    "wget --quiet -O - https://www.postgresql.org/media/keys/ACCC4CF8.asc | sudo apt-key add -\r\n",
    "\r\n",
    "# Update the package lists:\r\n",
    "sudo apt-get update\r\n",
    "\r\n",
    "# Install the latest version of PostgreSQL.\r\n",
    "# If you want a specific version, use 'postgresql-12' or similar instead of 'postgresql':\r\n",
    "sudo apt-get -y install-12 postgresql\n",
    "```"
   ]
  },
  {
   "cell_type": "markdown",
   "id": "7ec30014-0ead-4d14-8394-206fb0c144db",
   "metadata": {},
   "source": [
    "## Login no postgresql\n",
    "\n",
    "Fazer login na ferramenta psql com o usuário postgres\n",
    "\n",
    "```\n",
    "sudo -u postgres psql\n",
    "```"
   ]
  },
  {
   "cell_type": "markdown",
   "id": "15696e41-b138-4de7-98ce-79fc45143aae",
   "metadata": {},
   "source": [
    "## No psql"
   ]
  },
  {
   "cell_type": "markdown",
   "id": "e66bf5d8-9d58-4b6f-b709-fa18c7122c5e",
   "metadata": {},
   "source": [
    "Criando o banco de dados:"
   ]
  },
  {
   "cell_type": "markdown",
   "id": "78f86f80-927f-4339-b084-d6b82b056d38",
   "metadata": {},
   "source": [
    "```\n",
    "create database vendas;\n",
    "\n",
    "\\c vendas;\n",
    "\n",
    "\\i /home/elvin/download/demo/1.CreateTable.sql\n",
    "... até 6\n",
    "\n",
    "\\dt # lista as tabelas\n",
    "\\l # lista os databases\n",
    "```"
   ]
  },
  {
   "cell_type": "markdown",
   "id": "8959dd9c-0d74-4e97-a3ae-e4a4ffe56761",
   "metadata": {},
   "source": [
    "Criando uma senha:"
   ]
  },
  {
   "cell_type": "markdown",
   "id": "4b21898c-99ad-49ac-80ab-252ef7908362",
   "metadata": {},
   "source": [
    "```\n",
    "\\password # 1 a 6\n",
    "```"
   ]
  },
  {
   "cell_type": "markdown",
   "id": "d7ab1a7f-f36d-4d39-a244-4e0facab9e33",
   "metadata": {},
   "source": [
    "## Drive JDBC"
   ]
  },
  {
   "cell_type": "markdown",
   "id": "e94c5157-da94-48dc-8252-555ab012b9e9",
   "metadata": {},
   "source": [
    "pesquise por 'drive jdbc postgres' no google, entre no primeiro link e baixe alguma versão do jdbc para a maquina que possui a instalação do pyspark."
   ]
  },
  {
   "cell_type": "markdown",
   "id": "d20a9a1c-5010-43af-9667-6c93a57be4f3",
   "metadata": {},
   "source": [
    "mova o arquivo baixado para a pasta /opt/spark/jars"
   ]
  }
 ],
 "metadata": {
  "kernelspec": {
   "display_name": "Python 3 (ipykernel)",
   "language": "python",
   "name": "python3"
  },
  "language_info": {
   "codemirror_mode": {
    "name": "ipython",
    "version": 3
   },
   "file_extension": ".py",
   "mimetype": "text/x-python",
   "name": "python",
   "nbconvert_exporter": "python",
   "pygments_lexer": "ipython3",
   "version": "3.11.5"
  }
 },
 "nbformat": 4,
 "nbformat_minor": 5
}
