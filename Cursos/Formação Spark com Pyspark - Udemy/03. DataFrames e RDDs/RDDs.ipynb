{
 "cells": [
  {
   "cell_type": "markdown",
   "id": "8c8186fb-1633-45d6-b79d-e733c5f66990",
   "metadata": {},
   "source": [
    "# RDD parte 1"
   ]
  },
  {
   "cell_type": "code",
   "execution_count": null,
   "id": "421a227f-f6ae-42aa-b925-fed5afcfc17d",
   "metadata": {},
   "outputs": [],
   "source": [
    "import findspark\n",
    "findspark.init()"
   ]
  },
  {
   "cell_type": "code",
   "execution_count": null,
   "id": "0d634e44-9500-49d3-b3be-a1999de55964",
   "metadata": {},
   "outputs": [],
   "source": [
    "from pyspark.sql import SparkSession\n",
    "spark = SparkSession.builder.master('local[*]').getOrCreate()\n",
    "\n",
    "sc = spark.sparkContext"
   ]
  },
  {
   "cell_type": "code",
   "execution_count": null,
   "id": "daf6faaf-3d05-4bd7-b23a-e90827837173",
   "metadata": {},
   "outputs": [],
   "source": [
    "numeros = sc.parallelize([1,2,3,4,5,6,7,8,9,10])\n",
    "numeros.take(5) # mostra os primeiros n elementos"
   ]
  },
  {
   "cell_type": "code",
   "execution_count": null,
   "id": "7af999ae-45c6-4cfd-830f-953bc8818e76",
   "metadata": {},
   "outputs": [],
   "source": [
    "numeros.top(5)"
   ]
  },
  {
   "cell_type": "raw",
   "id": "2918053d-99d5-4396-b1ad-96f999d45439",
   "metadata": {},
   "source": [
    "numeros.collect() # não recomendado para arquivos grandes, pois retorna todos os elementos do RDD"
   ]
  },
  {
   "cell_type": "code",
   "execution_count": null,
   "id": "dfd3d374-3bdc-482c-8d67-915dafd0d7a2",
   "metadata": {},
   "outputs": [],
   "source": [
    "numeros.count() "
   ]
  },
  {
   "cell_type": "code",
   "execution_count": null,
   "id": "400baeb1-0a19-448a-be21-8fa0db49995f",
   "metadata": {},
   "outputs": [],
   "source": [
    "numeros.sum()"
   ]
  },
  {
   "cell_type": "code",
   "execution_count": null,
   "id": "0505b9d2-c6d1-4b9d-a3aa-9383be1cb6e6",
   "metadata": {},
   "outputs": [],
   "source": [
    "numeros.max()"
   ]
  },
  {
   "cell_type": "code",
   "execution_count": null,
   "id": "033cf7dd-c54d-4901-9c41-a7c961205a14",
   "metadata": {},
   "outputs": [],
   "source": [
    "numeros.min()"
   ]
  },
  {
   "cell_type": "code",
   "execution_count": null,
   "id": "8dbab594-5728-4596-87be-385dc5d07c83",
   "metadata": {},
   "outputs": [],
   "source": [
    "numeros.stdev()"
   ]
  },
  {
   "cell_type": "code",
   "execution_count": null,
   "id": "dd1a444a-bdee-4341-b944-5d90555ca778",
   "metadata": {},
   "outputs": [],
   "source": [
    "filtro = numeros.filter(lambda filtro: filtro > 5)\n",
    "filtro.collect()"
   ]
  },
  {
   "cell_type": "code",
   "execution_count": null,
   "id": "34b6e6e4-d545-4032-8f03-65de9a7e01a3",
   "metadata": {},
   "outputs": [],
   "source": [
    "amostra = numeros.sample(True, 0.5, 1) # amostra com reposição\n",
    "amostra.collect()"
   ]
  },
  {
   "cell_type": "code",
   "execution_count": null,
   "id": "4367948a-9adf-41c5-a9a1-26449db66938",
   "metadata": {},
   "outputs": [],
   "source": [
    "mapeados = numeros.map(lambda x: x * 2)\n",
    "mapeados.collect()"
   ]
  },
  {
   "cell_type": "code",
   "execution_count": null,
   "id": "bcfe42d1-54b8-4b43-80b1-f123284ae3df",
   "metadata": {},
   "outputs": [],
   "source": [
    "# Operações entre RDDs\n",
    "numeros2 = sc.parallelize([6,7,8,9,10])"
   ]
  },
  {
   "cell_type": "code",
   "execution_count": null,
   "id": "b674fbb7-b981-4e5f-978e-0bbf6b171ea2",
   "metadata": {},
   "outputs": [],
   "source": [
    "uniao = numeros.union(numeros2)\n",
    "uniao.collect()"
   ]
  },
  {
   "cell_type": "code",
   "execution_count": null,
   "id": "f8e30928-4940-44bc-aa14-ef321b337cb8",
   "metadata": {},
   "outputs": [],
   "source": [
    "intersecao = numeros.intersection(numeros2)\n",
    "intersecao.collect()"
   ]
  },
  {
   "cell_type": "code",
   "execution_count": null,
   "id": "3b483795-0fff-47d3-9445-290a22ed858d",
   "metadata": {},
   "outputs": [],
   "source": [
    "diferenca = numeros.subtract(numeros2)\n",
    "diferenca.collect()"
   ]
  },
  {
   "cell_type": "code",
   "execution_count": null,
   "id": "fdf6ccbe-040d-40f0-84b0-43905b390c94",
   "metadata": {},
   "outputs": [],
   "source": [
    "cartesiano = numeros.cartesian(numeros2)\n",
    "cartesiano.collect()"
   ]
  },
  {
   "cell_type": "code",
   "execution_count": null,
   "id": "a00627cd-f826-4848-aab8-513351255d68",
   "metadata": {},
   "outputs": [],
   "source": [
    "cartesiano.countByValue()"
   ]
  },
  {
   "cell_type": "markdown",
   "id": "985e718e-0c22-4f7b-ae5c-168e6a57fbbc",
   "metadata": {
    "jp-MarkdownHeadingCollapsed": true
   },
   "source": [
    "# RDD parte 2"
   ]
  },
  {
   "cell_type": "code",
   "execution_count": 22,
   "id": "3489bbde-4c01-4589-8e8e-30677c7f64bf",
   "metadata": {},
   "outputs": [],
   "source": [
    "compras = sc.parallelize([(1,200), (2,300), (3,120), (4,250),(5,78)]) # (cliente, valor da compra)"
   ]
  },
  {
   "cell_type": "code",
   "execution_count": 24,
   "id": "2590bd04-738a-459e-b99f-e140af6fee6f",
   "metadata": {},
   "outputs": [
    {
     "data": {
      "text/plain": [
       "[1, 2, 3, 4, 5]"
      ]
     },
     "execution_count": 24,
     "metadata": {},
     "output_type": "execute_result"
    }
   ],
   "source": [
    "clientes = compras.keys()\n",
    "clientes.collect()"
   ]
  },
  {
   "cell_type": "code",
   "execution_count": 26,
   "id": "b1a5822e-0542-486e-80e2-a860e2f2194e",
   "metadata": {},
   "outputs": [
    {
     "data": {
      "text/plain": [
       "[200, 300, 120, 250, 78]"
      ]
     },
     "execution_count": 26,
     "metadata": {},
     "output_type": "execute_result"
    }
   ],
   "source": [
    "valor = compras.values()\n",
    "valor.collect()"
   ]
  },
  {
   "cell_type": "code",
   "execution_count": 27,
   "id": "0f0b10c6-efcd-46ea-941a-68fdefedbd33",
   "metadata": {},
   "outputs": [
    {
     "data": {
      "text/plain": [
       "defaultdict(int, {1: 1, 2: 1, 3: 1, 4: 1, 5: 1})"
      ]
     },
     "execution_count": 27,
     "metadata": {},
     "output_type": "execute_result"
    }
   ],
   "source": [
    "compras.countByKey()"
   ]
  },
  {
   "cell_type": "code",
   "execution_count": 28,
   "id": "2a199d0c-6be3-413c-b275-bd85d6f6ec40",
   "metadata": {},
   "outputs": [
    {
     "data": {
      "text/plain": [
       "[(1, 201), (2, 301), (3, 121), (4, 251), (5, 79)]"
      ]
     },
     "execution_count": 28,
     "metadata": {},
     "output_type": "execute_result"
    }
   ],
   "source": [
    "soma = compras.mapValues(lambda x: x+1)\n",
    "soma.collect()"
   ]
  },
  {
   "cell_type": "code",
   "execution_count": 29,
   "id": "1697cf77-39d7-496b-b9be-2d3852dda02f",
   "metadata": {},
   "outputs": [],
   "source": [
    "debitos = sc.parallelize([(1,20),(2,300)])"
   ]
  },
  {
   "cell_type": "code",
   "execution_count": 31,
   "id": "09feddbb-30ee-440e-9fe6-ef1c154989e6",
   "metadata": {},
   "outputs": [
    {
     "name": "stderr",
     "output_type": "stream",
     "text": [
      "                                                                                \r"
     ]
    },
    {
     "data": {
      "text/plain": [
       "[(1, (200, 20)), (2, (300, 300))]"
      ]
     },
     "execution_count": 31,
     "metadata": {},
     "output_type": "execute_result"
    }
   ],
   "source": [
    "resultado = compras.join(debitos)\n",
    "resultado.collect()"
   ]
  },
  {
   "cell_type": "code",
   "execution_count": 33,
   "id": "b7c62938-04e5-4261-9a38-1960cc6e6020",
   "metadata": {},
   "outputs": [
    {
     "name": "stderr",
     "output_type": "stream",
     "text": [
      "                                                                                \r"
     ]
    },
    {
     "data": {
      "text/plain": [
       "[(4, 250), (3, 120), (5, 78), (1, 200)]"
      ]
     },
     "execution_count": 33,
     "metadata": {},
     "output_type": "execute_result"
    }
   ],
   "source": [
    "sem_debito = compras.subtract(debitos)\n",
    "sem_debito.collect()"
   ]
  }
 ],
 "metadata": {
  "kernelspec": {
   "display_name": "Python 3 (ipykernel)",
   "language": "python",
   "name": "python3"
  },
  "language_info": {
   "codemirror_mode": {
    "name": "ipython",
    "version": 3
   },
   "file_extension": ".py",
   "mimetype": "text/x-python",
   "name": "python",
   "nbconvert_exporter": "python",
   "pygments_lexer": "ipython3",
   "version": "3.11.5"
  }
 },
 "nbformat": 4,
 "nbformat_minor": 5
}
