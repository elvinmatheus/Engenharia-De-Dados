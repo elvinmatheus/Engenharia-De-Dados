{
 "cells": [
  {
   "cell_type": "markdown",
   "id": "a9d49062-660b-464c-894c-9992798c4169",
   "metadata": {},
   "source": [
    "# Exercícios"
   ]
  },
  {
   "cell_type": "code",
   "execution_count": 3,
   "id": "bec7b90d-f5e2-4992-8dab-f66b63822d82",
   "metadata": {},
   "outputs": [
    {
     "name": "stderr",
     "output_type": "stream",
     "text": [
      "23/09/10 11:34:40 WARN Utils: Your hostname, elvin-Aspire-E1-571 resolves to a loopback address: 127.0.1.1; using 192.168.33.183 instead (on interface wlp3s0)\n",
      "23/09/10 11:34:40 WARN Utils: Set SPARK_LOCAL_IP if you need to bind to another address\n",
      "Setting default log level to \"WARN\".\n",
      "To adjust logging level use sc.setLogLevel(newLevel). For SparkR, use setLogLevel(newLevel).\n",
      "23/09/10 11:34:41 WARN NativeCodeLoader: Unable to load native-hadoop library for your platform... using builtin-java classes where applicable\n",
      "23/09/10 11:34:42 WARN Utils: Service 'SparkUI' could not bind on port 4040. Attempting port 4041.\n"
     ]
    }
   ],
   "source": [
    "import findspark\n",
    "findspark.init()\n",
    "\n",
    "from pyspark.sql import SparkSession\n",
    "spark = SparkSession.builder.master('local[*]').getOrCreate()"
   ]
  },
  {
   "cell_type": "markdown",
   "id": "06300869-56e0-40ff-8627-9a62f9137303",
   "metadata": {},
   "source": [
    "## 1. Crie uma consulta que mostre nesta ordem, Nome, Estados e Status"
   ]
  },
  {
   "cell_type": "code",
   "execution_count": 6,
   "id": "87a4a83d-0cac-4ae4-9094-afd2b6dc4649",
   "metadata": {},
   "outputs": [
    {
     "data": {
      "text/plain": [
       "['ClienteID', 'Cliente', 'Estado', 'Genero', 'Status']"
      ]
     },
     "execution_count": 6,
     "metadata": {},
     "output_type": "execute_result"
    }
   ],
   "source": [
    "local = \"/home/elvin/Documents/Engenharia-De-Dados/Cursos/Formação Spark com Pyspark - Udemy/03. DataFrames e RDDs/Atividades/\"\n",
    "clientes = spark.read.format(\"parquet\").load(local + \"Clientes.parquet\") #não precisa informar o format pq o padrão é parquet\n",
    "clientes.columns"
   ]
  },
  {
   "cell_type": "code",
   "execution_count": 9,
   "id": "4d1158bc-5911-4711-855c-102bcda1e07f",
   "metadata": {},
   "outputs": [
    {
     "name": "stdout",
     "output_type": "stream",
     "text": [
      "+--------------------+------+--------+\n",
      "|             Cliente|Estado|  Status|\n",
      "+--------------------+------+--------+\n",
      "|Adelina Buenaventura|    RJ|  Silver|\n",
      "|        Adelino Gago|    RJ|  Silver|\n",
      "|     Adolfo Patrício|    PE|  Silver|\n",
      "|    Adriana Guedelha|    RO|Platinum|\n",
      "|       Adélio Lisboa|    SE|  Silver|\n",
      "|       Adérito Bahía|    MA|  Silver|\n",
      "|       Aida Dorneles|    RN|  Silver|\n",
      "|   Alarico Quinterno|    AC|  Silver|\n",
      "|    Alberto Cezimbra|    AM|  Silver|\n",
      "|    Alberto Monsanto|    RN|    Gold|\n",
      "|       Albino Canela|    AC|  Silver|\n",
      "|     Alceste Varanda|    RR|  Silver|\n",
      "|  Alcides Carvalhais|    RO|  Silver|\n",
      "|        Aldo Martins|    GO|  Silver|\n",
      "|   Alexandra Tabares|    MG|  Silver|\n",
      "|      Alfredo Cotrim|    SC|  Silver|\n",
      "|     Almeno Figueira|    SC|  Silver|\n",
      "|      Alvito Peralta|    AM|  Silver|\n",
      "|     Amadeu Martinho|    RN|  Silver|\n",
      "|      Amélia Estévez|    PE|  Silver|\n",
      "+--------------------+------+--------+\n",
      "only showing top 20 rows\n",
      "\n"
     ]
    }
   ],
   "source": [
    "# Solução item 1\n",
    "consulta1 = clientes.select(\"Cliente\", \"Estado\", \"Status\")\n",
    "consulta1.show()"
   ]
  },
  {
   "cell_type": "markdown",
   "id": "9d1ff5cc-8ba2-47c1-b20c-3f81154f6826",
   "metadata": {},
   "source": [
    "## 2. Crie uma consulta que mostre apenas os clientes do Status \"platinum\" e \"gold\""
   ]
  },
  {
   "cell_type": "code",
   "execution_count": 8,
   "id": "110fc6bd-f366-441c-bb0d-4aa2512c4e09",
   "metadata": {},
   "outputs": [],
   "source": [
    "from pyspark.sql import functions as Func"
   ]
  },
  {
   "cell_type": "code",
   "execution_count": 11,
   "id": "08702194-d6e5-403f-add7-fc4fe26e677e",
   "metadata": {},
   "outputs": [
    {
     "name": "stdout",
     "output_type": "stream",
     "text": [
      "+---------+-------------------+------+------+--------+\n",
      "|ClienteID|            Cliente|Estado|Genero|  Status|\n",
      "+---------+-------------------+------+------+--------+\n",
      "|        4|   Adriana Guedelha|    RO|     F|Platinum|\n",
      "|       10|   Alberto Monsanto|    RN|     M|    Gold|\n",
      "|       28|      Anna Carvajal|    RS|     F|    Gold|\n",
      "|       49|      Bento Quintão|    SP|     M|    Gold|\n",
      "|       68|      Carminda Dias|    AM|     F|    Gold|\n",
      "|       83|      Cláudio Jorge|    TO|     M|    Gold|\n",
      "|      121|    Dionísio Saltão|    PR|     M|    Gold|\n",
      "|      166|   Firmino Meireles|    AM|     M|    Gold|\n",
      "|      170|      Flor Vilanova|    CE|     M|Platinum|\n",
      "|      220|Honorina Villaverde|    PE|     F|    Gold|\n",
      "|      230|    Ibijara Botelho|    RR|     F|Platinum|\n",
      "|      237|  Iracema Rodríguez|    BA|     F|    Gold|\n",
      "|      247|         Joana Ataí|    GO|     F|Platinum|\n",
      "+---------+-------------------+------+------+--------+\n",
      "\n"
     ]
    }
   ],
   "source": [
    "consulta2 = clientes.where((Func.col(\"Status\") == \"Platinum\") | (Func.col(\"Status\") == \"Gold\"))\n",
    "consulta2.show()\n",
    "\n",
    "# consulta1.where((Func.col(\"Status\") == \"Platinum\") | (Func.col(\"Status\") == \"Gold\")).show()\n",
    "\n",
    "# clientes.select(*)  # Seleciona todas as colunas"
   ]
  },
  {
   "cell_type": "markdown",
   "id": "77aeaf8e-fa3f-4a10-a78d-88d67cf0f0f0",
   "metadata": {},
   "source": [
    "## 3.Demonstre quanto cada Status de Clientes representa em vendas?"
   ]
  },
  {
   "cell_type": "code",
   "execution_count": 12,
   "id": "012a8198-4d29-40be-b76f-e263b3c83855",
   "metadata": {},
   "outputs": [
    {
     "name": "stdout",
     "output_type": "stream",
     "text": [
      "+--------+----------+---------+---------+--------+\n",
      "|VendasID|VendedorID|ClienteID|     Data|   Total|\n",
      "+--------+----------+---------+---------+--------+\n",
      "|       1|         1|       91| 1/1/2019|  8053.6|\n",
      "|       2|         6|      185| 1/1/2020|   150.4|\n",
      "|       3|         7|       31| 2/1/2020|  6087.0|\n",
      "|       4|         5|       31| 2/1/2019| 13828.6|\n",
      "|       5|         5|       31| 3/1/2018|26096.66|\n",
      "|       6|         5|       31| 4/1/2020| 18402.0|\n",
      "|       7|         5|       31| 6/1/2019|  7524.2|\n",
      "|       8|         5|      186| 6/1/2019| 12036.6|\n",
      "|       9|         7|       91| 6/1/2020| 2804.75|\n",
      "|      10|         2|      202| 6/1/2020|  8852.0|\n",
      "|      11|         7|       58| 8/1/2019|16545.25|\n",
      "|      12|         7|       58| 9/1/2018|11411.88|\n",
      "|      13|         7|       58|10/1/2019| 15829.7|\n",
      "|      14|         3|      249|12/1/2020| 6154.36|\n",
      "|      15|         4|      249|12/1/2018| 3255.08|\n",
      "|      16|         7|      192|13/1/2020| 2901.25|\n",
      "|      17|         2|       79|13/1/2019| 15829.7|\n",
      "|      18|        10|       79|14/1/2019|16996.36|\n",
      "|      19|        10|      191|14/1/2019|   155.0|\n",
      "|      20|         9|      218|15/1/2018|  131.75|\n",
      "+--------+----------+---------+---------+--------+\n",
      "only showing top 20 rows\n",
      "\n"
     ]
    }
   ],
   "source": [
    "vendas = spark.read.format(\"parquet\").load(local + \"Vendas.parquet\")\n",
    "vendas.show()"
   ]
  },
  {
   "cell_type": "code",
   "execution_count": 21,
   "id": "5aa569a2-880a-41fb-8a7c-babcb5e3d04a",
   "metadata": {},
   "outputs": [
    {
     "name": "stdout",
     "output_type": "stream",
     "text": [
      "+---------+-------------------+------+------+------+--------+----------+---------+---------+--------+\n",
      "|ClienteID|            Cliente|Estado|Genero|Status|VendasID|VendedorID|ClienteID|     Data|   Total|\n",
      "+---------+-------------------+------+------+------+--------+----------+---------+---------+--------+\n",
      "|       91|     Cosme Zambujal|    BA|     M|Silver|       1|         1|       91| 1/1/2019|  8053.6|\n",
      "|      185|  Gertrudes Hidalgo|    PA|     F|Silver|       2|         6|      185| 1/1/2020|   150.4|\n",
      "|       31|   Antão Corte-Real|    ES|     M|Silver|       3|         7|       31| 2/1/2020|  6087.0|\n",
      "|       31|   Antão Corte-Real|    ES|     M|Silver|       4|         5|       31| 2/1/2019| 13828.6|\n",
      "|       31|   Antão Corte-Real|    ES|     M|Silver|       5|         5|       31| 3/1/2018|26096.66|\n",
      "|       31|   Antão Corte-Real|    ES|     M|Silver|       6|         5|       31| 4/1/2020| 18402.0|\n",
      "|       31|   Antão Corte-Real|    ES|     M|Silver|       7|         5|       31| 6/1/2019|  7524.2|\n",
      "|      186|  Gertrudes Infante|    RS|     F|Silver|       8|         5|      186| 6/1/2019| 12036.6|\n",
      "|       91|     Cosme Zambujal|    BA|     M|Silver|       9|         7|       91| 6/1/2020| 2804.75|\n",
      "|      202| Greice Lameirinhas|    PI|     F|Silver|      10|         2|      202| 6/1/2020|  8852.0|\n",
      "|       58|     Brígida Gusmão|    DF|     F|Silver|      11|         7|       58| 8/1/2019|16545.25|\n",
      "|       58|     Brígida Gusmão|    DF|     F|Silver|      12|         7|       58| 9/1/2018|11411.88|\n",
      "|       58|     Brígida Gusmão|    DF|     F|Silver|      13|         7|       58|10/1/2019| 15829.7|\n",
      "|      249|     Joaquim Mieiro|    TO|     M|Silver|      14|         3|      249|12/1/2020| 6154.36|\n",
      "|      249|     Joaquim Mieiro|    TO|     M|Silver|      15|         4|      249|12/1/2018| 3255.08|\n",
      "|      192|    Gisela Candeias|    SC|     F|Silver|      16|         7|      192|13/1/2020| 2901.25|\n",
      "|       79|      Cidália Miera|    SE|     F|Silver|      17|         2|       79|13/1/2019| 15829.7|\n",
      "|       79|      Cidália Miera|    SE|     F|Silver|      18|        10|       79|14/1/2019|16996.36|\n",
      "|      191|       Gisela Bahia|    SP|     F|Silver|      19|        10|      191|14/1/2019|   155.0|\n",
      "|      218|Hermígio Villaverde|    MA|     M|Silver|      20|         9|      218|15/1/2018|  131.75|\n",
      "+---------+-------------------+------+------+------+--------+----------+---------+---------+--------+\n",
      "only showing top 20 rows\n",
      "\n"
     ]
    }
   ],
   "source": [
    "consulta3 = clientes.join(vendas,clientes[\"ClienteID\"]==vendas[\"ClienteID\"], \"inner\")\n",
    "# vendas.join(clientes, vendas.ClienteID == clientes.ClienteID, \"inner\")\n",
    "consulta3.show()"
   ]
  },
  {
   "cell_type": "code",
   "execution_count": 23,
   "id": "e8f406e3-aab1-4449-92d1-e0c4f86d2bcd",
   "metadata": {},
   "outputs": [
    {
     "name": "stdout",
     "output_type": "stream",
     "text": [
      "+--------+------------------+\n",
      "|  Status|        sum(Total)|\n",
      "+--------+------------------+\n",
      "|  Silver|        3014291.36|\n",
      "|    Gold|27286.690000000002|\n",
      "|Platinum|          12584.68|\n",
      "+--------+------------------+\n",
      "\n"
     ]
    }
   ],
   "source": [
    "from pyspark.sql.functions import sum\n",
    "consulta3.groupBy(\"Status\").agg(sum(\"Total\")).orderBy(Func.col(\"sum(Total)\").desc()).show()"
   ]
  },
  {
   "cell_type": "code",
   "execution_count": null,
   "id": "3d9183fa-11a1-4323-b44a-5d5632af1c42",
   "metadata": {},
   "outputs": [],
   "source": []
  }
 ],
 "metadata": {
  "kernelspec": {
   "display_name": "Python 3 (ipykernel)",
   "language": "python",
   "name": "python3"
  },
  "language_info": {
   "codemirror_mode": {
    "name": "ipython",
    "version": 3
   },
   "file_extension": ".py",
   "mimetype": "text/x-python",
   "name": "python",
   "nbconvert_exporter": "python",
   "pygments_lexer": "ipython3",
   "version": "3.11.5"
  }
 },
 "nbformat": 4,
 "nbformat_minor": 5
}
