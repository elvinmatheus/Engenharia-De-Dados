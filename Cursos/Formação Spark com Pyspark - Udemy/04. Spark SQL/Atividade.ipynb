{
 "cells": [
  {
   "cell_type": "markdown",
   "id": "ae70c0bf-a34a-4ab0-803d-324db73ef057",
   "metadata": {},
   "source": [
    "# Exercícios"
   ]
  },
  {
   "cell_type": "code",
   "execution_count": 3,
   "id": "521a4d1d-cc0d-4c7f-aad6-6f90a005f548",
   "metadata": {},
   "outputs": [
    {
     "name": "stderr",
     "output_type": "stream",
     "text": [
      "23/09/13 08:21:15 WARN Utils: Your hostname, elvin-Aspire-E1-571 resolves to a loopback address: 127.0.1.1; using 192.168.80.183 instead (on interface wlp3s0)\n",
      "23/09/13 08:21:15 WARN Utils: Set SPARK_LOCAL_IP if you need to bind to another address\n",
      "Setting default log level to \"WARN\".\n",
      "To adjust logging level use sc.setLogLevel(newLevel). For SparkR, use setLogLevel(newLevel).\n",
      "23/09/13 08:21:17 WARN NativeCodeLoader: Unable to load native-hadoop library for your platform... using builtin-java classes where applicable\n"
     ]
    }
   ],
   "source": [
    "import findspark\n",
    "findspark.init()\n",
    "\n",
    "from pyspark.sql import SparkSession\n",
    "spark = SparkSession.builder.master('local[*]').getOrCreate()"
   ]
  },
  {
   "cell_type": "markdown",
   "id": "95fdd545-32e0-4ca9-b26b-498a7bb5a12d",
   "metadata": {},
   "source": [
    "## 1. Crie um banco de dados no DW do Spark chamado VendasVarejo, e persista todas as tabelas neste banco de dados."
   ]
  },
  {
   "cell_type": "code",
   "execution_count": 4,
   "id": "8ef3f054-4ad2-4626-8ed5-9175db55bd23",
   "metadata": {},
   "outputs": [
    {
     "name": "stdout",
     "output_type": "stream",
     "text": [
      "+---------+\n",
      "|namespace|\n",
      "+---------+\n",
      "|  default|\n",
      "+---------+\n",
      "\n"
     ]
    }
   ],
   "source": [
    "spark.sql(\"show databases\").show()"
   ]
  },
  {
   "cell_type": "code",
   "execution_count": 5,
   "id": "4fdf0d24-04c7-4bd6-8820-dc6c82e43388",
   "metadata": {},
   "outputs": [
    {
     "name": "stdout",
     "output_type": "stream",
     "text": [
      "+------------+\n",
      "|   namespace|\n",
      "+------------+\n",
      "|     default|\n",
      "|vendasvarejo|\n",
      "+------------+\n",
      "\n"
     ]
    }
   ],
   "source": [
    "spark.sql(\"create database VendasVarejo\")\n",
    "spark.sql(\"show databases\").show()"
   ]
  },
  {
   "cell_type": "code",
   "execution_count": 7,
   "id": "83afd552-6ce3-4b03-9dc5-ad3cab80332c",
   "metadata": {},
   "outputs": [
    {
     "name": "stdout",
     "output_type": "stream",
     "text": [
      "++\n",
      "||\n",
      "++\n",
      "++\n",
      "\n"
     ]
    }
   ],
   "source": [
    "spark.sql(\"use vendasvarejo\").show()"
   ]
  },
  {
   "cell_type": "code",
   "execution_count": 11,
   "id": "41e99744-b07b-436b-8706-28df735a3d26",
   "metadata": {},
   "outputs": [],
   "source": [
    "path = \"/home/elvin/Documents/Engenharia-De-Dados/Cursos/Formação Spark com Pyspark - Udemy/04. Spark SQL/Atividades/\"\n",
    "\n",
    "clientes = spark.read.load(path + \"Clientes.parquet\")\n",
    "itensvendas = spark.read.load(path + \"ItensVendas.parquet\")\n",
    "produtos = spark.read.load(path + \"Produtos.parquet\")\n",
    "vendas = spark.read.load(path + \"Vendas.parquet\")\n",
    "vendedores = spark.read.load(path + \"Vendedores.parquet\")"
   ]
  },
  {
   "cell_type": "code",
   "execution_count": 17,
   "id": "76d91ef0-3248-4446-8d2a-fcefb8cca844",
   "metadata": {},
   "outputs": [],
   "source": [
    "clientes.write.saveAsTable(\"Clientes\")\n",
    "itensvendas.write.saveAsTable(\"ItensVendas\")\n",
    "produtos.write.saveAsTable(\"Produtos\")\n",
    "vendas.write.saveAsTable(\"Vendas\")\n",
    "vendedores.write.saveAsTable(\"Vendedores\")"
   ]
  },
  {
   "cell_type": "code",
   "execution_count": 18,
   "id": "011d2b98-07cf-4966-9015-5953f5169ce2",
   "metadata": {},
   "outputs": [
    {
     "name": "stdout",
     "output_type": "stream",
     "text": [
      "+------------+-----------+-----------+\n",
      "|   namespace|  tableName|isTemporary|\n",
      "+------------+-----------+-----------+\n",
      "|vendasvarejo|   clientes|      false|\n",
      "|vendasvarejo|itensvendas|      false|\n",
      "|vendasvarejo|   produtos|      false|\n",
      "|vendasvarejo|     vendas|      false|\n",
      "|vendasvarejo| vendedores|      false|\n",
      "+------------+-----------+-----------+\n",
      "\n"
     ]
    }
   ],
   "source": [
    "spark.sql(\"show tables\").show()"
   ]
  },
  {
   "cell_type": "markdown",
   "id": "8b8048d9-ce42-4188-af2d-50c737fa881a",
   "metadata": {},
   "source": [
    "## 2. Crie uma consulta que mostre de cada item vendido: Nome do Cliente, Data da Vendas, Produto, Vendedor e Valor Total do item."
   ]
  },
  {
   "cell_type": "code",
   "execution_count": 19,
   "id": "5e0aae0f-6653-4aa2-b85a-144d0af6c728",
   "metadata": {},
   "outputs": [
    {
     "name": "stdout",
     "output_type": "stream",
     "text": [
      "+-----------------+--------+--------------------+----------------+----------+\n",
      "|          Cliente|    Data|             Produto|        Vendedor|ValorTotal|\n",
      "+-----------------+--------+--------------------+----------------+----------+\n",
      "|   Cosme Zambujal|1/1/2019|Bicicleta Altools...|    Armando Lago|   7820.85|\n",
      "|   Cosme Zambujal|1/1/2019|Bermuda Predactor...|    Armando Lago|     97.75|\n",
      "|   Cosme Zambujal|1/1/2019|Camiseta Predacto...|    Armando Lago|     135.0|\n",
      "|Gertrudes Hidalgo|1/1/2020|Luva De Ciclismo ...|   Iberê Lacerda|     150.4|\n",
      "| Antão Corte-Real|2/1/2020|Capacete Gometws ...|Jéssica Castelão|     155.0|\n",
      "| Antão Corte-Real|2/1/2020|Bicicleta Gometws...|Jéssica Castelão|    5932.0|\n",
      "| Antão Corte-Real|2/1/2019|Bicicleta Altools...|  Hélio Liberato|   7820.85|\n",
      "| Antão Corte-Real|2/1/2019|Bermuda Predactor...|  Hélio Liberato|     97.75|\n",
      "| Antão Corte-Real|2/1/2019|Bicicleta Gometws...|  Hélio Liberato|    5910.0|\n",
      "| Antão Corte-Real|3/1/2018|Bicicleta Gometws...|  Hélio Liberato|    2955.0|\n",
      "| Antão Corte-Real|3/1/2018|Bicicleta Trinc C...|  Hélio Liberato|    7658.0|\n",
      "| Antão Corte-Real|3/1/2018|Bicicleta Aro 29 ...|  Hélio Liberato|    8852.0|\n",
      "| Antão Corte-Real|3/1/2018|Camiseta Predacto...|  Hélio Liberato|     121.5|\n",
      "| Antão Corte-Real|3/1/2018|Bicicleta Gts Adv...|  Hélio Liberato|   6510.16|\n",
      "| Antão Corte-Real|4/1/2020|Bicicleta Altools...|  Hélio Liberato|   18402.0|\n",
      "| Antão Corte-Real|6/1/2019|Bicicleta Aro 29 ...|  Hélio Liberato|    7524.2|\n",
      "|Gertrudes Infante|6/1/2019|Luva De Ciclismo ...|  Hélio Liberato|     376.0|\n",
      "|Gertrudes Infante|6/1/2019|Bicicleta Gts Adv...|  Hélio Liberato|   3616.75|\n",
      "|Gertrudes Infante|6/1/2019|Camiseta Predacto...|  Hélio Liberato|     108.0|\n",
      "|Gertrudes Infante|6/1/2019|Bermuda Predactor...|  Hélio Liberato|     115.0|\n",
      "+-----------------+--------+--------------------+----------------+----------+\n",
      "only showing top 20 rows\n",
      "\n"
     ]
    }
   ],
   "source": [
    "consulta = \"\"\"SELECT C.Cliente, V.Data, P.Produto, Vd.Vendedor, IV.ValorTotal\n",
    "FROM ItensVendas as IV\n",
    "INNER JOIN Vendas AS V ON IV.VendasID = V.VendasID\n",
    "INNER JOIN Clientes AS C ON V.ClienteID = C.ClienteID\n",
    "INNER JOIN Produtos AS P ON IV.ProdutoID = P.ProdutoID\n",
    "INNER JOIN Vendedores AS Vd ON V.VendedorID = Vd.VendedorID;\"\"\"\n",
    "\n",
    "spark.sql(consulta).show()"
   ]
  },
  {
   "cell_type": "code",
   "execution_count": null,
   "id": "db78586a-192b-45b5-82af-42c78084d697",
   "metadata": {},
   "outputs": [],
   "source": []
  }
 ],
 "metadata": {
  "kernelspec": {
   "display_name": "Python 3 (ipykernel)",
   "language": "python",
   "name": "python3"
  },
  "language_info": {
   "codemirror_mode": {
    "name": "ipython",
    "version": 3
   },
   "file_extension": ".py",
   "mimetype": "text/x-python",
   "name": "python",
   "nbconvert_exporter": "python",
   "pygments_lexer": "ipython3",
   "version": "3.11.5"
  }
 },
 "nbformat": 4,
 "nbformat_minor": 5
}
