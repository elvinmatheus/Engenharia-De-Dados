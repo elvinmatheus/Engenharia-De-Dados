{
 "cells": [
  {
   "cell_type": "code",
   "execution_count": 1,
   "id": "0c1102a8-aebd-4f1c-b51f-93f942e36a0e",
   "metadata": {},
   "outputs": [
    {
     "name": "stderr",
     "output_type": "stream",
     "text": [
      "23/09/18 08:14:54 WARN Utils: Your hostname, elvin-Aspire-E1-571 resolves to a loopback address: 127.0.1.1; using 192.168.8.183 instead (on interface wlp3s0)\n",
      "23/09/18 08:14:54 WARN Utils: Set SPARK_LOCAL_IP if you need to bind to another address\n",
      "Setting default log level to \"WARN\".\n",
      "To adjust logging level use sc.setLogLevel(newLevel). For SparkR, use setLogLevel(newLevel).\n",
      "23/09/18 08:14:55 WARN NativeCodeLoader: Unable to load native-hadoop library for your platform... using builtin-java classes where applicable\n"
     ]
    }
   ],
   "source": [
    "from pyspark.sql import SparkSession\n",
    "\n",
    "spark = SparkSession.builder.master('local[*]').getOrCreate()"
   ]
  },
  {
   "cell_type": "markdown",
   "id": "cc64a080-3d74-4dbd-a071-9850dc374890",
   "metadata": {},
   "source": [
    "# Preparando Dados para Regressão"
   ]
  },
  {
   "cell_type": "code",
   "execution_count": 2,
   "id": "6dc15eb0-b818-4d65-8d7d-9ffc051f6864",
   "metadata": {},
   "outputs": [],
   "source": [
    "from pyspark.ml.regression import LinearRegression, RandomForestRegressor\n",
    "from pyspark.ml.evaluation import RegressionEvaluator\n",
    "from pyspark.ml.feature import VectorAssembler"
   ]
  },
  {
   "cell_type": "code",
   "execution_count": 3,
   "id": "c509952c-3897-426d-af80-ca0b027b6628",
   "metadata": {},
   "outputs": [
    {
     "name": "stdout",
     "output_type": "stream",
     "text": [
      "+-------+---------+-----------+---------------+----+-----+---------+-----------+-------+-----------+---+\n",
      "|Consumo|Cilindros|Cilindradas|RelEixoTraseiro|Peso|Tempo|TipoMotor|Transmissao|Marchas|Carburadors| HP|\n",
      "+-------+---------+-----------+---------------+----+-----+---------+-----------+-------+-----------+---+\n",
      "|     21|        6|        160|             39| 262| 1646|        0|          1|      4|          4|110|\n",
      "|     21|        6|        160|             39|2875| 1702|        0|          1|      4|          4|110|\n",
      "|    228|        4|        108|            385| 232| 1861|        1|          1|      4|          1| 93|\n",
      "|    214|        6|        258|            308|3215| 1944|        1|          0|      3|          1|110|\n",
      "|    187|        8|        360|            315| 344| 1702|        0|          0|      3|          2|175|\n",
      "|    181|        6|        225|            276| 346| 2022|        1|          0|      3|          1|105|\n",
      "|    143|        8|        360|            321| 357| 1584|        0|          0|      3|          4|245|\n",
      "|    244|        4|       1467|            369| 319|   20|        1|          0|      4|          2| 62|\n",
      "|    228|        4|       1408|            392| 315|  229|        1|          0|      4|          2| 95|\n",
      "|    192|        6|       1676|            392| 344|  183|        1|          0|      4|          4|123|\n",
      "|    178|        6|       1676|            392| 344|  189|        1|          0|      4|          4|123|\n",
      "|    164|        8|       2758|            307| 407|  174|        0|          0|      3|          3|180|\n",
      "|    173|        8|       2758|            307| 373|  176|        0|          0|      3|          3|180|\n",
      "|    152|        8|       2758|            307| 378|   18|        0|          0|      3|          3|180|\n",
      "|    104|        8|        472|            293| 525| 1798|        0|          0|      3|          4|205|\n",
      "|    104|        8|        460|              3|5424| 1782|        0|          0|      3|          4|215|\n",
      "|    147|        8|        440|            323|5345| 1742|        0|          0|      3|          4|230|\n",
      "|    324|        4|        787|            408|  22| 1947|        1|          1|      4|          1| 66|\n",
      "|    304|        4|        757|            493|1615| 1852|        1|          1|      4|          2| 52|\n",
      "|    339|        4|        711|            422|1835|  199|        1|          1|      4|          1| 65|\n",
      "+-------+---------+-----------+---------------+----+-----+---------+-----------+-------+-----------+---+\n",
      "only showing top 20 rows\n",
      "\n"
     ]
    }
   ],
   "source": [
    "carros_temp = spark.read.csv(\"/home/elvin/download/Carros.csv\", inferSchema=True, header=True, sep=\";\")\n",
    "carros_temp.show()"
   ]
  },
  {
   "cell_type": "code",
   "execution_count": 4,
   "id": "08134f47-d2a8-40b2-8ab9-0cfd4aca41be",
   "metadata": {},
   "outputs": [
    {
     "name": "stdout",
     "output_type": "stream",
     "text": [
      "+-------+---------+-----------+---+\n",
      "|Consumo|Cilindros|Cilindradas| HP|\n",
      "+-------+---------+-----------+---+\n",
      "|     21|        6|        160|110|\n",
      "|     21|        6|        160|110|\n",
      "|    228|        4|        108| 93|\n",
      "|    214|        6|        258|110|\n",
      "|    187|        8|        360|175|\n",
      "|    181|        6|        225|105|\n",
      "|    143|        8|        360|245|\n",
      "|    244|        4|       1467| 62|\n",
      "|    228|        4|       1408| 95|\n",
      "|    192|        6|       1676|123|\n",
      "|    178|        6|       1676|123|\n",
      "|    164|        8|       2758|180|\n",
      "|    173|        8|       2758|180|\n",
      "|    152|        8|       2758|180|\n",
      "|    104|        8|        472|205|\n",
      "|    104|        8|        460|215|\n",
      "|    147|        8|        440|230|\n",
      "|    324|        4|        787| 66|\n",
      "|    304|        4|        757| 52|\n",
      "|    339|        4|        711| 65|\n",
      "+-------+---------+-----------+---+\n",
      "only showing top 20 rows\n",
      "\n"
     ]
    }
   ],
   "source": [
    "carros = carros_temp.select(\"Consumo\", \"Cilindros\", \"Cilindradas\", \"HP\")\n",
    "carros.show()"
   ]
  },
  {
   "cell_type": "markdown",
   "id": "f6a0b4fb-b1a5-4ea3-b808-1c3c425e8b02",
   "metadata": {},
   "source": [
    "**Adicionando o vetor características**"
   ]
  },
  {
   "cell_type": "code",
   "execution_count": 5,
   "id": "0b75f638-c581-4c77-8b81-5461695b89fa",
   "metadata": {},
   "outputs": [
    {
     "name": "stdout",
     "output_type": "stream",
     "text": [
      "+-------+---------+-----------+---+------------------+\n",
      "|Consumo|Cilindros|Cilindradas| HP|   caracteristicas|\n",
      "+-------+---------+-----------+---+------------------+\n",
      "|     21|        6|        160|110|  [21.0,6.0,160.0]|\n",
      "|     21|        6|        160|110|  [21.0,6.0,160.0]|\n",
      "|    228|        4|        108| 93| [228.0,4.0,108.0]|\n",
      "|    214|        6|        258|110| [214.0,6.0,258.0]|\n",
      "|    187|        8|        360|175| [187.0,8.0,360.0]|\n",
      "|    181|        6|        225|105| [181.0,6.0,225.0]|\n",
      "|    143|        8|        360|245| [143.0,8.0,360.0]|\n",
      "|    244|        4|       1467| 62|[244.0,4.0,1467.0]|\n",
      "|    228|        4|       1408| 95|[228.0,4.0,1408.0]|\n",
      "|    192|        6|       1676|123|[192.0,6.0,1676.0]|\n",
      "|    178|        6|       1676|123|[178.0,6.0,1676.0]|\n",
      "|    164|        8|       2758|180|[164.0,8.0,2758.0]|\n",
      "|    173|        8|       2758|180|[173.0,8.0,2758.0]|\n",
      "|    152|        8|       2758|180|[152.0,8.0,2758.0]|\n",
      "|    104|        8|        472|205| [104.0,8.0,472.0]|\n",
      "|    104|        8|        460|215| [104.0,8.0,460.0]|\n",
      "|    147|        8|        440|230| [147.0,8.0,440.0]|\n",
      "|    324|        4|        787| 66| [324.0,4.0,787.0]|\n",
      "|    304|        4|        757| 52| [304.0,4.0,757.0]|\n",
      "|    339|        4|        711| 65| [339.0,4.0,711.0]|\n",
      "+-------+---------+-----------+---+------------------+\n",
      "only showing top 20 rows\n",
      "\n"
     ]
    }
   ],
   "source": [
    "vectCaracterísticas = VectorAssembler(inputCols=[('Consumo'), ('Cilindros'), ('Cilindradas')], outputCol='caracteristicas')\n",
    "carros = vectCaracterísticas.transform(carros)\n",
    "carros.show()"
   ]
  },
  {
   "cell_type": "markdown",
   "id": "35ceea04-0fbc-4a91-a2ac-f69252d16bed",
   "metadata": {},
   "source": [
    "**Separando em treino e teste**"
   ]
  },
  {
   "cell_type": "code",
   "execution_count": 6,
   "id": "2e7cb7b3-a137-480d-8c3e-3ef7ac02f010",
   "metadata": {},
   "outputs": [],
   "source": [
    "carrosTreino, carrosTeste = carros.randomSplit([0.7,0.3])"
   ]
  },
  {
   "cell_type": "code",
   "execution_count": 7,
   "id": "d15dcba8-dbcd-405f-b48a-744b7709413a",
   "metadata": {},
   "outputs": [
    {
     "name": "stdout",
     "output_type": "stream",
     "text": [
      "20\n",
      "12\n"
     ]
    }
   ],
   "source": [
    "print(carrosTreino.count())\n",
    "print(carrosTeste.count())"
   ]
  },
  {
   "cell_type": "markdown",
   "id": "32f806c1-50de-4c7a-b5c4-182abbd4c3a3",
   "metadata": {},
   "source": [
    "# Criando um modelo de regressão linear"
   ]
  },
  {
   "cell_type": "code",
   "execution_count": 8,
   "id": "f3ee0a6f-ea62-4513-9c81-44fc699d4dc8",
   "metadata": {},
   "outputs": [
    {
     "name": "stderr",
     "output_type": "stream",
     "text": [
      "23/09/18 08:15:08 WARN Instrumentation: [c5c445b0] regParam is zero, which might cause numerical instability and overfitting.\n"
     ]
    }
   ],
   "source": [
    "regLinear = LinearRegression(featuresCol=\"caracteristicas\",labelCol=\"HP\")\n",
    "modelo = regLinear.fit(carrosTreino)"
   ]
  },
  {
   "cell_type": "code",
   "execution_count": 10,
   "id": "ca17f04f-3d3d-456e-8c40-1511599c5999",
   "metadata": {},
   "outputs": [],
   "source": [
    "previsao = modelo.transform(carrosTeste)"
   ]
  },
  {
   "cell_type": "code",
   "execution_count": 11,
   "id": "1005cb31-571a-49d5-9d85-c799b3cadee2",
   "metadata": {},
   "outputs": [
    {
     "name": "stdout",
     "output_type": "stream",
     "text": [
      "+-------+---------+-----------+---+------------------+------------------+\n",
      "|Consumo|Cilindros|Cilindradas| HP|   caracteristicas|        prediction|\n",
      "+-------+---------+-----------+---+------------------+------------------+\n",
      "|     21|        6|        160|110|  [21.0,6.0,160.0]|177.02973841139345|\n",
      "|    104|        8|        460|215| [104.0,8.0,460.0]|214.79456622997222|\n",
      "|    104|        8|        472|205| [104.0,8.0,472.0]|214.68961881104536|\n",
      "|    133|        8|        350|245| [133.0,8.0,350.0]|210.11150888440972|\n",
      "|    152|        8|       2758|180|[152.0,8.0,2758.0]|  185.353562508413|\n",
      "|    178|        6|       1676|123|[178.0,6.0,1676.0]|133.21011114240514|\n",
      "|    215|        4|       1201| 97|[215.0,4.0,1201.0]| 73.61683402385269|\n",
      "|    244|        4|       1467| 62|[244.0,4.0,1467.0]| 65.64542421858147|\n",
      "|    273|        4|         79| 66|  [273.0,4.0,79.0]| 72.13926698873104|\n",
      "|    304|        4|        757| 52| [304.0,4.0,757.0]| 60.17534692542622|\n",
      "|    304|        4|        951|113| [304.0,4.0,951.0]|58.478696986108424|\n",
      "|    324|        4|        787| 66| [324.0,4.0,787.0]|56.019822962666154|\n",
      "+-------+---------+-----------+---+------------------+------------------+\n",
      "\n"
     ]
    }
   ],
   "source": [
    "previsao.show()"
   ]
  },
  {
   "cell_type": "code",
   "execution_count": 12,
   "id": "2ee24b19-96be-490a-b2b9-04cdca4ae97a",
   "metadata": {},
   "outputs": [],
   "source": [
    "avaliar = RegressionEvaluator(predictionCol=\"prediction\", labelCol=\"HP\", metricName=\"rmse\")"
   ]
  },
  {
   "cell_type": "code",
   "execution_count": 13,
   "id": "e092759c-1e67-4049-8fa8-c976d6179bb7",
   "metadata": {},
   "outputs": [],
   "source": [
    "rmse = avaliar.evaluate(previsao)"
   ]
  },
  {
   "cell_type": "code",
   "execution_count": 14,
   "id": "9e76f411-e094-429d-95f7-d203ef11188f",
   "metadata": {},
   "outputs": [
    {
     "name": "stdout",
     "output_type": "stream",
     "text": [
      "28.392774083634993\n"
     ]
    }
   ],
   "source": [
    "print(rmse)"
   ]
  },
  {
   "cell_type": "markdown",
   "id": "bd69c293-19cc-48b7-897d-cd03002d5144",
   "metadata": {},
   "source": [
    "**Criando um modelo de Random Forest Regression**"
   ]
  },
  {
   "cell_type": "code",
   "execution_count": 15,
   "id": "1f684664-4352-4654-bb51-617f77374076",
   "metadata": {},
   "outputs": [],
   "source": [
    "rfreg = RandomForestRegressor(featuresCol=\"caracteristicas\", labelCol=\"HP\")"
   ]
  },
  {
   "cell_type": "code",
   "execution_count": 16,
   "id": "06988094-f5a1-47b2-bcbd-87e776f111cf",
   "metadata": {},
   "outputs": [
    {
     "name": "stderr",
     "output_type": "stream",
     "text": [
      "23/09/18 08:20:46 WARN DecisionTreeMetadata: DecisionTree reducing maxBins from 32 to 20 (= number of training instances)\n"
     ]
    }
   ],
   "source": [
    "modelo2 = rfreg.fit(carrosTreino)"
   ]
  },
  {
   "cell_type": "code",
   "execution_count": 17,
   "id": "48d78531-e380-4046-8fda-0d1f59854721",
   "metadata": {},
   "outputs": [
    {
     "name": "stderr",
     "output_type": "stream",
     "text": [
      "WARNING: An illegal reflective access operation has occurred\n",
      "WARNING: Illegal reflective access by org.apache.spark.util.SizeEstimator$ (file:/opt/spark/jars/spark-core_2.12-3.4.1.jar) to field java.nio.charset.Charset.name\n",
      "WARNING: Please consider reporting this to the maintainers of org.apache.spark.util.SizeEstimator$\n",
      "WARNING: Use --illegal-access=warn to enable warnings of further illegal reflective access operations\n",
      "WARNING: All illegal access operations will be denied in a future release\n"
     ]
    }
   ],
   "source": [
    "previsao2 = modelo2.transform(carrosTeste)"
   ]
  },
  {
   "cell_type": "code",
   "execution_count": 18,
   "id": "3b0eedd5-a163-417c-a46a-242ee9208331",
   "metadata": {},
   "outputs": [
    {
     "name": "stdout",
     "output_type": "stream",
     "text": [
      "+-------+---------+-----------+---+------------------+------------------+\n",
      "|Consumo|Cilindros|Cilindradas| HP|   caracteristicas|        prediction|\n",
      "+-------+---------+-----------+---+------------------+------------------+\n",
      "|     21|        6|        160|110|  [21.0,6.0,160.0]|116.85416666666666|\n",
      "|    104|        8|        460|215| [104.0,8.0,460.0]| 224.7443055555556|\n",
      "|    104|        8|        472|205| [104.0,8.0,472.0]| 224.7443055555556|\n",
      "|    133|        8|        350|245| [133.0,8.0,350.0]| 227.7693055555556|\n",
      "|    152|        8|       2758|180|[152.0,8.0,2758.0]| 214.6443055555556|\n",
      "|    178|        6|       1676|123|[178.0,6.0,1676.0]|125.72583333333333|\n",
      "|    215|        4|       1201| 97|[215.0,4.0,1201.0]| 94.60869047619047|\n",
      "|    244|        4|       1467| 62|[244.0,4.0,1467.0]| 90.19619047619048|\n",
      "|    273|        4|         79| 66|  [273.0,4.0,79.0]|104.56285714285714|\n",
      "|    304|        4|        757| 52| [304.0,4.0,757.0]|             75.06|\n",
      "|    304|        4|        951|113| [304.0,4.0,951.0]|             75.06|\n",
      "|    324|        4|        787| 66| [324.0,4.0,787.0]|             75.06|\n",
      "+-------+---------+-----------+---+------------------+------------------+\n",
      "\n"
     ]
    }
   ],
   "source": [
    "previsao2.show()"
   ]
  },
  {
   "cell_type": "code",
   "execution_count": 19,
   "id": "4032cad1-bbdf-480b-80a4-59f7aeb26a54",
   "metadata": {},
   "outputs": [
    {
     "name": "stdout",
     "output_type": "stream",
     "text": [
      "+-------+---------+-----------+---+------------------+------------------+\n",
      "|Consumo|Cilindros|Cilindradas| HP|   caracteristicas|        prediction|\n",
      "+-------+---------+-----------+---+------------------+------------------+\n",
      "|     21|        6|        160|110|  [21.0,6.0,160.0]|177.02973841139345|\n",
      "|    104|        8|        460|215| [104.0,8.0,460.0]|214.79456622997222|\n",
      "|    104|        8|        472|205| [104.0,8.0,472.0]|214.68961881104536|\n",
      "|    133|        8|        350|245| [133.0,8.0,350.0]|210.11150888440972|\n",
      "|    152|        8|       2758|180|[152.0,8.0,2758.0]|  185.353562508413|\n",
      "|    178|        6|       1676|123|[178.0,6.0,1676.0]|133.21011114240514|\n",
      "|    215|        4|       1201| 97|[215.0,4.0,1201.0]| 73.61683402385269|\n",
      "|    244|        4|       1467| 62|[244.0,4.0,1467.0]| 65.64542421858147|\n",
      "|    273|        4|         79| 66|  [273.0,4.0,79.0]| 72.13926698873104|\n",
      "|    304|        4|        757| 52| [304.0,4.0,757.0]| 60.17534692542622|\n",
      "|    304|        4|        951|113| [304.0,4.0,951.0]|58.478696986108424|\n",
      "|    324|        4|        787| 66| [324.0,4.0,787.0]|56.019822962666154|\n",
      "+-------+---------+-----------+---+------------------+------------------+\n",
      "\n"
     ]
    }
   ],
   "source": [
    "previsao.show()"
   ]
  },
  {
   "cell_type": "code",
   "execution_count": 20,
   "id": "ec58076f-8b13-4d90-9e14-1cb720a330e5",
   "metadata": {},
   "outputs": [
    {
     "name": "stdout",
     "output_type": "stream",
     "text": [
      "23.053293092274842\n"
     ]
    }
   ],
   "source": [
    "rmse2 = avaliar.evaluate(previsao2)\n",
    "print(rmse2)"
   ]
  },
  {
   "cell_type": "code",
   "execution_count": 21,
   "id": "7cfec2fc-c966-41c0-9f69-c6c674f73df8",
   "metadata": {},
   "outputs": [
    {
     "name": "stdout",
     "output_type": "stream",
     "text": [
      "28.392774083634993\n"
     ]
    }
   ],
   "source": [
    "print(rmse)"
   ]
  }
 ],
 "metadata": {
  "kernelspec": {
   "display_name": "Python 3 (ipykernel)",
   "language": "python",
   "name": "python3"
  },
  "language_info": {
   "codemirror_mode": {
    "name": "ipython",
    "version": 3
   },
   "file_extension": ".py",
   "mimetype": "text/x-python",
   "name": "python",
   "nbconvert_exporter": "python",
   "pygments_lexer": "ipython3",
   "version": "3.11.5"
  }
 },
 "nbformat": 4,
 "nbformat_minor": 5
}
