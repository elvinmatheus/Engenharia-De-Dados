{
 "cells": [
  {
   "cell_type": "code",
   "execution_count": 1,
   "id": "cf8c4672-f070-4903-a7b2-ae92a1ff2f3c",
   "metadata": {},
   "outputs": [
    {
     "name": "stderr",
     "output_type": "stream",
     "text": [
      "23/09/20 08:10:15 WARN Utils: Your hostname, elvin-Aspire-E1-571 resolves to a loopback address: 127.0.1.1; using 192.168.236.183 instead (on interface wlp3s0)\n",
      "23/09/20 08:10:15 WARN Utils: Set SPARK_LOCAL_IP if you need to bind to another address\n",
      "Setting default log level to \"WARN\".\n",
      "To adjust logging level use sc.setLogLevel(newLevel). For SparkR, use setLogLevel(newLevel).\n",
      "23/09/20 08:10:16 WARN NativeCodeLoader: Unable to load native-hadoop library for your platform... using builtin-java classes where applicable\n",
      "23/09/20 08:10:17 WARN Utils: Service 'SparkUI' could not bind on port 4040. Attempting port 4041.\n",
      "23/09/20 08:10:17 WARN Utils: Service 'SparkUI' could not bind on port 4041. Attempting port 4042.\n"
     ]
    }
   ],
   "source": [
    "from pyspark.sql import SparkSession\n",
    "\n",
    "spark = SparkSession.builder.master('local[*]').getOrCreate()"
   ]
  },
  {
   "cell_type": "markdown",
   "id": "6b47306d-373a-4ea9-b874-41e5d960558f",
   "metadata": {},
   "source": [
    "# Preparando dados para Classificação"
   ]
  },
  {
   "cell_type": "code",
   "execution_count": 2,
   "id": "2a67e71d-bb3e-4df9-b255-2437959859cf",
   "metadata": {},
   "outputs": [],
   "source": [
    "from pyspark.ml.feature import RFormula\n",
    "from pyspark.ml.classification import DecisionTreeClassifier\n",
    "from pyspark.ml.evaluation import BinaryClassificationEvaluator"
   ]
  },
  {
   "cell_type": "code",
   "execution_count": 3,
   "id": "7a925a51-8993-4fda-a16c-d6f6ce068a8e",
   "metadata": {},
   "outputs": [
    {
     "name": "stdout",
     "output_type": "stream",
     "text": [
      "+-----------+---------+------+---+------+--------+-------------+---------+--------------+---------------+------+\n",
      "|CreditScore|Geography|Gender|Age|Tenure| Balance|NumOfProducts|HasCrCard|IsActiveMember|EstimatedSalary|Exited|\n",
      "+-----------+---------+------+---+------+--------+-------------+---------+--------------+---------------+------+\n",
      "|        619|   France|Female| 42|     2|       0|            1|        1|             1|       10134888|     1|\n",
      "|        608|    Spain|Female| 41|     1| 8380786|            1|        0|             1|       11254258|     0|\n",
      "|        502|   France|Female| 42|     8| 1596608|            3|        1|             0|       11393157|     1|\n",
      "|        699|   France|Female| 39|     1|       0|            2|        0|             0|        9382663|     0|\n",
      "|        850|    Spain|Female| 43|     2|12551082|            1|        1|             1|         790841|     0|\n",
      "+-----------+---------+------+---+------+--------+-------------+---------+--------------+---------------+------+\n",
      "only showing top 5 rows\n",
      "\n"
     ]
    }
   ],
   "source": [
    "churn = spark.read.csv('/home/elvin/download/Churn.csv', inferSchema=True, header=True, sep=';')\n",
    "churn.show(5)"
   ]
  },
  {
   "cell_type": "code",
   "execution_count": 4,
   "id": "9f400fab-30a2-487e-b004-5a32aa232f5f",
   "metadata": {},
   "outputs": [],
   "source": [
    "formula = RFormula(formula=\"Exited ~ .\", featuresCol=\"features\", labelCol=\"label\", handleInvalid=\"skip\") \n",
    "# Variável dependente é Exited e as variáveis independentes são todas as demais (representados por '.')"
   ]
  },
  {
   "cell_type": "code",
   "execution_count": 5,
   "id": "63dfe7dc-2699-41c9-99f4-a4e593bf2ea8",
   "metadata": {},
   "outputs": [
    {
     "name": "stderr",
     "output_type": "stream",
     "text": [
      "                                                                                \r"
     ]
    }
   ],
   "source": [
    "churnTrans = formula.fit(churn).transform(churn).select(\"features\", \"label\")"
   ]
  },
  {
   "cell_type": "code",
   "execution_count": 6,
   "id": "38598e6a-55bc-41e3-a433-81a75130c8d5",
   "metadata": {},
   "outputs": [
    {
     "name": "stdout",
     "output_type": "stream",
     "text": [
      "+----------------------------------------------------------------+-----+\n",
      "|features                                                        |label|\n",
      "+----------------------------------------------------------------+-----+\n",
      "|[619.0,1.0,0.0,0.0,42.0,2.0,0.0,1.0,1.0,1.0,1.0134888E7]        |1.0  |\n",
      "|[608.0,0.0,0.0,0.0,41.0,1.0,8380786.0,1.0,0.0,1.0,1.1254258E7]  |0.0  |\n",
      "|[502.0,1.0,0.0,0.0,42.0,8.0,1596608.0,3.0,1.0,0.0,1.1393157E7]  |1.0  |\n",
      "|(11,[0,1,4,5,7,10],[699.0,1.0,39.0,1.0,2.0,9382663.0])          |0.0  |\n",
      "|[850.0,0.0,0.0,0.0,43.0,2.0,1.2551082E7,1.0,1.0,1.0,790841.0]   |0.0  |\n",
      "|[645.0,0.0,0.0,1.0,44.0,8.0,1.1375578E7,2.0,1.0,0.0,1.4975671E7]|1.0  |\n",
      "|[822.0,1.0,0.0,1.0,50.0,7.0,0.0,2.0,1.0,1.0,100628.0]           |0.0  |\n",
      "|[376.0,0.0,1.0,0.0,29.0,4.0,1.1504674E7,4.0,1.0,0.0,1.1934688E7]|1.0  |\n",
      "|[501.0,1.0,0.0,1.0,44.0,4.0,1.4205107E7,2.0,0.0,1.0,749405.0]   |0.0  |\n",
      "|[684.0,1.0,0.0,1.0,27.0,2.0,1.3460388E7,1.0,1.0,1.0,7172573.0]  |0.0  |\n",
      "|[528.0,1.0,0.0,1.0,31.0,6.0,1.0201672E7,2.0,0.0,0.0,8018112.0]  |0.0  |\n",
      "|[497.0,0.0,0.0,1.0,24.0,3.0,0.0,2.0,1.0,0.0,7639001.0]          |0.0  |\n",
      "|[476.0,1.0,0.0,0.0,34.0,10.0,0.0,2.0,1.0,0.0,2626098.0]         |0.0  |\n",
      "|(11,[0,1,4,5,7,10],[549.0,1.0,25.0,5.0,2.0,1.9085779E7])        |0.0  |\n",
      "|[635.0,0.0,0.0,0.0,35.0,7.0,0.0,2.0,1.0,1.0,6595165.0]          |0.0  |\n",
      "|[616.0,0.0,1.0,1.0,45.0,3.0,1.4312941E7,2.0,0.0,1.0,6432726.0]  |0.0  |\n",
      "|[653.0,0.0,1.0,1.0,58.0,1.0,1.3260288E7,1.0,1.0,0.0,509767.0]   |1.0  |\n",
      "|[549.0,0.0,0.0,0.0,24.0,9.0,0.0,2.0,1.0,1.0,1440641.0]          |0.0  |\n",
      "|(11,[0,3,4,5,7,10],[587.0,1.0,45.0,6.0,1.0,1.5868481E7])        |0.0  |\n",
      "|[726.0,1.0,0.0,0.0,24.0,6.0,0.0,2.0,1.0,1.0,5472403.0]          |0.0  |\n",
      "+----------------------------------------------------------------+-----+\n",
      "only showing top 20 rows\n",
      "\n"
     ]
    }
   ],
   "source": [
    "churnTrans.show(truncate=False)"
   ]
  },
  {
   "cell_type": "markdown",
   "id": "c550f36b-eb1c-486a-a37c-419271296b6c",
   "metadata": {},
   "source": [
    "# Criando um modelo de classificação"
   ]
  },
  {
   "cell_type": "code",
   "execution_count": 7,
   "id": "dedd4010-de34-46dc-9982-4038d1dd9a51",
   "metadata": {},
   "outputs": [
    {
     "name": "stderr",
     "output_type": "stream",
     "text": [
      "                                                                                \r"
     ]
    },
    {
     "name": "stdout",
     "output_type": "stream",
     "text": [
      "7011\n",
      "2989\n"
     ]
    }
   ],
   "source": [
    "churnTreino, churnTeste = churnTrans.randomSplit([0.7,0.3])\n",
    "print(churnTreino.count())\n",
    "print(churnTeste.count())"
   ]
  },
  {
   "cell_type": "code",
   "execution_count": 8,
   "id": "f2b65d61-d1f9-411e-b629-302af16c142b",
   "metadata": {},
   "outputs": [],
   "source": [
    "dtclassifier = DecisionTreeClassifier(labelCol=\"label\", featuresCol=\"features\")"
   ]
  },
  {
   "cell_type": "code",
   "execution_count": 9,
   "id": "9d1cdac9-7831-47b3-82ef-c09dd2c45bc3",
   "metadata": {},
   "outputs": [
    {
     "name": "stderr",
     "output_type": "stream",
     "text": [
      "                                                                                \r"
     ]
    }
   ],
   "source": [
    "modelo = dtclassifier.fit(churnTreino)"
   ]
  },
  {
   "cell_type": "code",
   "execution_count": 10,
   "id": "e4f0c324-1226-4773-93dd-838cde8bf815",
   "metadata": {},
   "outputs": [],
   "source": [
    "previsao = modelo.transform(churnTeste)"
   ]
  },
  {
   "cell_type": "code",
   "execution_count": 11,
   "id": "c2c40921-28d4-42d0-ab73-4a725d5b0f2c",
   "metadata": {},
   "outputs": [
    {
     "name": "stdout",
     "output_type": "stream",
     "text": [
      "+--------------------+-----+--------------+--------------------+----------+\n",
      "|            features|label| rawPrediction|         probability|prediction|\n",
      "+--------------------+-----+--------------+--------------------+----------+\n",
      "|(11,[0,1,3,4,7,10...|  0.0| [115.0,115.0]|           [0.5,0.5]|       0.0|\n",
      "|(11,[0,1,3,4,7,10...|  0.0|  [188.0,44.0]|[0.81034482758620...|       0.0|\n",
      "|(11,[0,1,4,5,7,10...|  0.0|[4386.0,466.0]|[0.90395713107996...|       0.0|\n",
      "|(11,[0,1,4,5,7,10...|  0.0|[4386.0,466.0]|[0.90395713107996...|       0.0|\n",
      "|(11,[0,1,4,5,7,10...|  1.0|  [188.0,44.0]|[0.81034482758620...|       0.0|\n",
      "|(11,[0,1,4,5,7,10...|  0.0|[4386.0,466.0]|[0.90395713107996...|       0.0|\n",
      "|(11,[0,1,4,5,7,10...|  1.0|  [47.0,254.0]|[0.15614617940199...|       1.0|\n",
      "|(11,[0,1,4,5,7,10...|  0.0|[4386.0,466.0]|[0.90395713107996...|       0.0|\n",
      "|(11,[0,1,4,5,7,10...|  0.0|[4386.0,466.0]|[0.90395713107996...|       0.0|\n",
      "|(11,[0,1,4,5,7,10...|  0.0|[4386.0,466.0]|[0.90395713107996...|       0.0|\n",
      "|(11,[0,1,4,5,7,10...|  1.0|    [0.0,42.0]|           [0.0,1.0]|       1.0|\n",
      "|(11,[0,1,4,5,7,10...|  0.0|[4386.0,466.0]|[0.90395713107996...|       0.0|\n",
      "|(11,[0,1,4,5,7,10...|  0.0|[4386.0,466.0]|[0.90395713107996...|       0.0|\n",
      "|(11,[0,1,4,5,7,10...|  0.0|[4386.0,466.0]|[0.90395713107996...|       0.0|\n",
      "|(11,[0,1,4,5,7,10...|  0.0|[4386.0,466.0]|[0.90395713107996...|       0.0|\n",
      "|(11,[0,1,4,5,7,10...|  0.0|[4386.0,466.0]|[0.90395713107996...|       0.0|\n",
      "|(11,[0,1,4,5,7,10...|  1.0|[4386.0,466.0]|[0.90395713107996...|       0.0|\n",
      "|(11,[0,1,4,5,7,10...|  1.0|     [5.0,8.0]|[0.38461538461538...|       1.0|\n",
      "|(11,[0,1,4,5,7,10...|  0.0|[4386.0,466.0]|[0.90395713107996...|       0.0|\n",
      "|(11,[0,1,4,5,7,10...|  0.0|[4386.0,466.0]|[0.90395713107996...|       0.0|\n",
      "+--------------------+-----+--------------+--------------------+----------+\n",
      "only showing top 20 rows\n",
      "\n"
     ]
    }
   ],
   "source": [
    "previsao.show()"
   ]
  },
  {
   "cell_type": "code",
   "execution_count": 12,
   "id": "fe4ff86b-fea4-4dce-ab9c-7a9a0c861d42",
   "metadata": {},
   "outputs": [],
   "source": [
    "avaliar = BinaryClassificationEvaluator(rawPredictionCol=\"prediction\", labelCol=\"label\", metricName=\"areaUnderROC\")"
   ]
  },
  {
   "cell_type": "code",
   "execution_count": 13,
   "id": "09259677-72d3-4446-b8c1-ee3665cc0404",
   "metadata": {},
   "outputs": [],
   "source": [
    "areaUnderRoc = avaliar.evaluate(previsao)"
   ]
  },
  {
   "cell_type": "code",
   "execution_count": 14,
   "id": "e0a4a947-758d-4f7b-b681-cd32f0483b81",
   "metadata": {},
   "outputs": [
    {
     "name": "stdout",
     "output_type": "stream",
     "text": [
      "0.6712570686937981\n"
     ]
    }
   ],
   "source": [
    "print(areaUnderRoc)"
   ]
  }
 ],
 "metadata": {
  "kernelspec": {
   "display_name": "Python 3 (ipykernel)",
   "language": "python",
   "name": "python3"
  },
  "language_info": {
   "codemirror_mode": {
    "name": "ipython",
    "version": 3
   },
   "file_extension": ".py",
   "mimetype": "text/x-python",
   "name": "python",
   "nbconvert_exporter": "python",
   "pygments_lexer": "ipython3",
   "version": "3.11.5"
  }
 },
 "nbformat": 4,
 "nbformat_minor": 5
}
