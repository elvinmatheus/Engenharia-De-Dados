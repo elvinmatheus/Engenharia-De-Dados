{
 "cells": [
  {
   "cell_type": "markdown",
   "id": "615995ec-d5a4-4092-bd55-8618a1f6d372",
   "metadata": {},
   "source": [
    "# Atividade"
   ]
  },
  {
   "cell_type": "code",
   "execution_count": 2,
   "id": "f974f77e-48c3-4387-b610-a05d1c6d8d4c",
   "metadata": {},
   "outputs": [],
   "source": [
    "from pyspark.sql import SparkSession\n",
    "\n",
    "spark = SparkSession.builder.master('local[*]').getOrCreate()\n",
    "\n",
    "from pyspark.ml.feature import RFormula\n",
    "from pyspark.ml.classification import RandomForestClassifier\n",
    "from pyspark.ml.classification import NaiveBayes\n",
    "from pyspark.ml.evaluation import MulticlassClassificationEvaluator"
   ]
  },
  {
   "cell_type": "markdown",
   "id": "793d3611-dfc4-4474-b301-c6c5e9cc5c1a",
   "metadata": {},
   "source": [
    "## Preparando os dados"
   ]
  },
  {
   "cell_type": "code",
   "execution_count": 3,
   "id": "e456f2df-24fa-4c66-a497-6267f4ebdfc0",
   "metadata": {},
   "outputs": [
    {
     "name": "stderr",
     "output_type": "stream",
     "text": [
      "                                                                                \r"
     ]
    },
    {
     "name": "stdout",
     "output_type": "stream",
     "text": [
      "+-----------+----------+-----------+----------+-----------+\n",
      "|sepallength|sepalwidth|petallength|petalwidth|      class|\n",
      "+-----------+----------+-----------+----------+-----------+\n",
      "|        5.1|       3.5|        1.4|       0.2|Iris-setosa|\n",
      "|        4.9|       3.0|        1.4|       0.2|Iris-setosa|\n",
      "|        4.7|       3.2|        1.3|       0.2|Iris-setosa|\n",
      "|        4.6|       3.1|        1.5|       0.2|Iris-setosa|\n",
      "|        5.0|       3.6|        1.4|       0.2|Iris-setosa|\n",
      "|        5.4|       3.9|        1.7|       0.4|Iris-setosa|\n",
      "|        4.6|       3.4|        1.4|       0.3|Iris-setosa|\n",
      "|        5.0|       3.4|        1.5|       0.2|Iris-setosa|\n",
      "|        4.4|       2.9|        1.4|       0.2|Iris-setosa|\n",
      "|        4.9|       3.1|        1.5|       0.1|Iris-setosa|\n",
      "|        5.4|       3.7|        1.5|       0.2|Iris-setosa|\n",
      "|        4.8|       3.4|        1.6|       0.2|Iris-setosa|\n",
      "|        4.8|       3.0|        1.4|       0.1|Iris-setosa|\n",
      "|        4.3|       3.0|        1.1|       0.1|Iris-setosa|\n",
      "|        5.8|       4.0|        1.2|       0.2|Iris-setosa|\n",
      "|        5.7|       4.4|        1.5|       0.4|Iris-setosa|\n",
      "|        5.4|       3.9|        1.3|       0.4|Iris-setosa|\n",
      "|        5.1|       3.5|        1.4|       0.3|Iris-setosa|\n",
      "|        5.7|       3.8|        1.7|       0.3|Iris-setosa|\n",
      "|        5.1|       3.8|        1.5|       0.3|Iris-setosa|\n",
      "+-----------+----------+-----------+----------+-----------+\n",
      "only showing top 20 rows\n",
      "\n"
     ]
    }
   ],
   "source": [
    "iris_temp = spark.read.csv(\"/home/elvin/download/iris.csv\", inferSchema=True, header=True)\n",
    "iris_temp.show()"
   ]
  },
  {
   "cell_type": "code",
   "execution_count": 14,
   "id": "1bd0d492-2f3b-40b4-a548-b72c083198fe",
   "metadata": {},
   "outputs": [
    {
     "name": "stdout",
     "output_type": "stream",
     "text": [
      "+-----------------+-----+\n",
      "|         features|label|\n",
      "+-----------------+-----+\n",
      "|[5.1,3.5,1.4,0.2]|  0.0|\n",
      "|[4.9,3.0,1.4,0.2]|  0.0|\n",
      "|[4.7,3.2,1.3,0.2]|  0.0|\n",
      "|[4.6,3.1,1.5,0.2]|  0.0|\n",
      "|[5.0,3.6,1.4,0.2]|  0.0|\n",
      "|[5.4,3.9,1.7,0.4]|  0.0|\n",
      "|[4.6,3.4,1.4,0.3]|  0.0|\n",
      "|[5.0,3.4,1.5,0.2]|  0.0|\n",
      "|[4.4,2.9,1.4,0.2]|  0.0|\n",
      "|[4.9,3.1,1.5,0.1]|  0.0|\n",
      "|[5.4,3.7,1.5,0.2]|  0.0|\n",
      "|[4.8,3.4,1.6,0.2]|  0.0|\n",
      "|[4.8,3.0,1.4,0.1]|  0.0|\n",
      "|[4.3,3.0,1.1,0.1]|  0.0|\n",
      "|[5.8,4.0,1.2,0.2]|  0.0|\n",
      "|[5.7,4.4,1.5,0.4]|  0.0|\n",
      "|[5.4,3.9,1.3,0.4]|  0.0|\n",
      "|[5.1,3.5,1.4,0.3]|  0.0|\n",
      "|[5.7,3.8,1.7,0.3]|  0.0|\n",
      "|[5.1,3.8,1.5,0.3]|  0.0|\n",
      "+-----------------+-----+\n",
      "only showing top 20 rows\n",
      "\n"
     ]
    }
   ],
   "source": [
    "formula = RFormula(formula='class ~ .', featuresCol='features', labelCol='label', handleInvalid='skip')\n",
    "iris_trans = formula.fit(iris_temp).transform(iris_temp).select('features', 'label')\n",
    "iris_trans.show()"
   ]
  },
  {
   "cell_type": "code",
   "execution_count": 10,
   "id": "4dbf8c89-7a68-4f50-821e-d40ca536f47f",
   "metadata": {},
   "outputs": [
    {
     "name": "stdout",
     "output_type": "stream",
     "text": [
      "+-----+\n",
      "|label|\n",
      "+-----+\n",
      "|  0.0|\n",
      "|  1.0|\n",
      "|  2.0|\n",
      "+-----+\n",
      "\n"
     ]
    }
   ],
   "source": [
    "iris_trans.select('label').distinct().show()"
   ]
  },
  {
   "cell_type": "code",
   "execution_count": 13,
   "id": "4cd512b8-3cef-4f1c-b7a7-1678500cdef8",
   "metadata": {},
   "outputs": [
    {
     "name": "stdout",
     "output_type": "stream",
     "text": [
      "107\n",
      "43\n"
     ]
    }
   ],
   "source": [
    "iris_treino, iris_teste = iris_trans.randomSplit([0.7, 0.3])\n",
    "print(iris_treino.count())\n",
    "print(iris_teste.count())"
   ]
  },
  {
   "cell_type": "markdown",
   "id": "e72fcc25-9f21-438e-b2a5-4b70f4a0c6ea",
   "metadata": {},
   "source": [
    "## Criando os modelos de classificação"
   ]
  },
  {
   "cell_type": "code",
   "execution_count": 16,
   "id": "245b30de-c6b7-4e9e-8566-3db0b46892d9",
   "metadata": {},
   "outputs": [
    {
     "name": "stdout",
     "output_type": "stream",
     "text": [
      "+-----------------+-----+--------------------+--------------------+----------+\n",
      "|         features|label|       rawPrediction|         probability|prediction|\n",
      "+-----------------+-----+--------------------+--------------------+----------+\n",
      "|[4.4,2.9,1.4,0.2]|  0.0|      [20.0,0.0,0.0]|       [1.0,0.0,0.0]|       0.0|\n",
      "|[4.6,3.4,1.4,0.3]|  0.0|      [20.0,0.0,0.0]|       [1.0,0.0,0.0]|       0.0|\n",
      "|[4.8,3.4,1.9,0.2]|  0.0|      [20.0,0.0,0.0]|       [1.0,0.0,0.0]|       0.0|\n",
      "|[4.9,2.4,3.3,1.0]|  1.0|[0.0,19.945906432...|[0.0,0.9972953216...|       1.0|\n",
      "|[4.9,2.5,4.5,1.7]|  2.0|[0.0,17.973684210...|[0.0,0.8986842105...|       1.0|\n",
      "|[4.9,3.1,1.5,0.1]|  0.0|      [20.0,0.0,0.0]|       [1.0,0.0,0.0]|       0.0|\n",
      "|[5.0,2.3,3.3,1.0]|  1.0|[0.0,19.945906432...|[0.0,0.9972953216...|       1.0|\n",
      "|[5.0,3.4,1.5,0.2]|  0.0|      [20.0,0.0,0.0]|       [1.0,0.0,0.0]|       0.0|\n",
      "|[5.0,3.5,1.3,0.3]|  0.0|      [20.0,0.0,0.0]|       [1.0,0.0,0.0]|       0.0|\n",
      "|[5.0,3.6,1.4,0.2]|  0.0|      [20.0,0.0,0.0]|       [1.0,0.0,0.0]|       0.0|\n",
      "|[5.1,3.3,1.7,0.5]|  0.0|      [20.0,0.0,0.0]|       [1.0,0.0,0.0]|       0.0|\n",
      "|[5.1,3.8,1.9,0.4]|  0.0|      [20.0,0.0,0.0]|       [1.0,0.0,0.0]|       0.0|\n",
      "|[5.2,3.5,1.5,0.2]|  0.0|      [20.0,0.0,0.0]|       [1.0,0.0,0.0]|       0.0|\n",
      "|[5.2,4.1,1.5,0.1]|  0.0|      [20.0,0.0,0.0]|       [1.0,0.0,0.0]|       0.0|\n",
      "|[5.4,3.0,4.5,1.5]|  1.0|[0.0,19.945906432...|[0.0,0.9972953216...|       1.0|\n",
      "|[5.4,3.4,1.7,0.2]|  0.0|      [20.0,0.0,0.0]|       [1.0,0.0,0.0]|       0.0|\n",
      "|[5.4,3.9,1.7,0.4]|  0.0|      [20.0,0.0,0.0]|       [1.0,0.0,0.0]|       0.0|\n",
      "|[5.5,2.4,3.7,1.0]|  1.0|[0.0,19.843214921...|[0.0,0.9921607460...|       1.0|\n",
      "|[5.5,2.5,4.0,1.3]|  1.0|[0.0,19.843214921...|[0.0,0.9921607460...|       1.0|\n",
      "|[5.5,3.5,1.3,0.2]|  0.0|[16.0,3.966666666...|[0.79999999999999...|       0.0|\n",
      "+-----------------+-----+--------------------+--------------------+----------+\n",
      "only showing top 20 rows\n",
      "\n"
     ]
    }
   ],
   "source": [
    "rfclassifier = RandomForestClassifier(featuresCol='features', labelCol='label')\n",
    "modelo = rfclassifier.fit(iris_treino)\n",
    "previsao = modelo.transform(iris_teste)\n",
    "previsao.show()"
   ]
  },
  {
   "cell_type": "code",
   "execution_count": 18,
   "id": "128f7a68-c801-4a1b-bf48-a85fb51a3cd2",
   "metadata": {},
   "outputs": [
    {
     "name": "stdout",
     "output_type": "stream",
     "text": [
      "0.9767441860465116\n"
     ]
    }
   ],
   "source": [
    "avaliacao = MulticlassClassificationEvaluator(predictionCol='prediction', labelCol='label', metricName='accuracy')\n",
    "accuracy = avaliacao.evaluate(previsao)\n",
    "print(accuracy)"
   ]
  },
  {
   "cell_type": "code",
   "execution_count": 19,
   "id": "5a730c5f-1ff4-41cb-addc-f59d86c6b7ef",
   "metadata": {},
   "outputs": [
    {
     "name": "stdout",
     "output_type": "stream",
     "text": [
      "+-----------------+-----+--------------------+--------------------+----------+\n",
      "|         features|label|       rawPrediction|         probability|prediction|\n",
      "+-----------------+-----+--------------------+--------------------+----------+\n",
      "|[4.4,2.9,1.4,0.2]|  0.0|[-10.882805061628...|[0.62421525719613...|       0.0|\n",
      "|[4.6,3.4,1.4,0.3]|  0.0|[-11.934366673348...|[0.66949503664793...|       0.0|\n",
      "|[4.8,3.4,1.9,0.2]|  0.0|[-12.679188312511...|[0.62368343836520...|       0.0|\n",
      "|[4.9,2.4,3.3,1.0]|  1.0|[-17.263123600977...|[0.09853767015200...|       1.0|\n",
      "|[4.9,2.5,4.5,1.7]|  2.0|[-22.232621251688...|[0.01732881069558...|       2.0|\n",
      "|[4.9,3.1,1.5,0.1]|  0.0|[-11.284586525440...|[0.68725680233504...|       0.0|\n",
      "|[5.0,2.3,3.3,1.0]|  1.0|[-17.223941367806...|[0.09520515532030...|       1.0|\n",
      "|[5.0,3.4,1.5,0.2]|  0.0|[-12.046560795491...|[0.70013291645220...|       0.0|\n",
      "|[5.0,3.5,1.3,0.3]|  0.0|[-12.132226340255...|[0.71545902799630...|       0.0|\n",
      "|[5.0,3.6,1.4,0.2]|  0.0|[-12.072379820241...|[0.73877730059859...|       0.0|\n",
      "|[5.1,3.3,1.7,0.5]|  0.0|[-13.482491156248...|[0.56327337851117...|       0.0|\n",
      "|[5.1,3.8,1.9,0.4]|  0.0|[-14.054364761162...|[0.62963174799181...|       0.0|\n",
      "|[5.2,3.5,1.5,0.2]|  0.0|[-12.296965903989...|[0.72056743799869...|       0.0|\n",
      "|[5.2,4.1,1.5,0.1]|  0.0|[-12.591707983565...|[0.80690395243223...|       0.0|\n",
      "|[5.4,3.0,4.5,1.5]|  1.0|[-22.407014528427...|[0.03381886230196...|       1.0|\n",
      "|[5.4,3.4,1.7,0.2]|  0.0|[-12.714912679547...|[0.68560326981002...|       0.0|\n",
      "|[5.4,3.9,1.7,0.4]|  0.0|[-13.988456111151...|[0.69025194414697...|       0.0|\n",
      "|[5.5,2.4,3.7,1.0]|  1.0|[-18.459012118870...|[0.08393102389373...|       1.0|\n",
      "|[5.5,2.5,4.0,1.3]|  1.0|[-20.237075262886...|[0.04871660395119...|       1.0|\n",
      "|[5.5,3.5,1.3,0.2]|  0.0|[-12.121467395698...|[0.76120165836906...|       0.0|\n",
      "+-----------------+-----+--------------------+--------------------+----------+\n",
      "only showing top 20 rows\n",
      "\n"
     ]
    }
   ],
   "source": [
    "nbclassifier = NaiveBayes(modelType=\"multinomial\", featuresCol='features', labelCol='label')\n",
    "modelo2 = nbclassifier.fit(iris_treino)\n",
    "previsao2 = modelo2.transform(iris_teste)\n",
    "previsao2.show()"
   ]
  },
  {
   "cell_type": "code",
   "execution_count": 20,
   "id": "9973aca7-fcdb-43e9-8c3f-91ea9df42d41",
   "metadata": {},
   "outputs": [
    {
     "name": "stdout",
     "output_type": "stream",
     "text": [
      "0.7906976744186046\n"
     ]
    }
   ],
   "source": [
    "accuracy2 = avaliacao.evaluate(previsao2)\n",
    "print(accuracy2)"
   ]
  }
 ],
 "metadata": {
  "kernelspec": {
   "display_name": "Python 3 (ipykernel)",
   "language": "python",
   "name": "python3"
  },
  "language_info": {
   "codemirror_mode": {
    "name": "ipython",
    "version": 3
   },
   "file_extension": ".py",
   "mimetype": "text/x-python",
   "name": "python",
   "nbconvert_exporter": "python",
   "pygments_lexer": "ipython3",
   "version": "3.11.5"
  }
 },
 "nbformat": 4,
 "nbformat_minor": 5
}
