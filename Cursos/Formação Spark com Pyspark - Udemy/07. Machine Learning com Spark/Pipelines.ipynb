{
 "cells": [
  {
   "cell_type": "markdown",
   "id": "85a423c5-de53-47a6-9263-bba1766fdb78",
   "metadata": {},
   "source": [
    "# Pipelines"
   ]
  },
  {
   "cell_type": "code",
   "execution_count": 3,
   "id": "9d547b1e-d07d-4e86-8c57-94888752a4e5",
   "metadata": {},
   "outputs": [
    {
     "name": "stderr",
     "output_type": "stream",
     "text": [
      "23/09/20 07:28:14 WARN Utils: Your hostname, elvin-Aspire-E1-571 resolves to a loopback address: 127.0.1.1; using 192.168.236.183 instead (on interface wlp3s0)\n",
      "23/09/20 07:28:14 WARN Utils: Set SPARK_LOCAL_IP if you need to bind to another address\n",
      "Setting default log level to \"WARN\".\n",
      "To adjust logging level use sc.setLogLevel(newLevel). For SparkR, use setLogLevel(newLevel).\n",
      "23/09/20 07:28:17 WARN NativeCodeLoader: Unable to load native-hadoop library for your platform... using builtin-java classes where applicable\n"
     ]
    }
   ],
   "source": [
    "from pyspark.sql import SparkSession\n",
    "from pyspark.ml.regression import LinearRegression\n",
    "from pyspark.ml.feature import VectorAssembler\n",
    "\n",
    "spark = SparkSession.builder.master(\"local[*]\").getOrCreate()"
   ]
  },
  {
   "cell_type": "code",
   "execution_count": 4,
   "id": "bd8978ce-25d7-4147-b22e-8bd9fb9d3b98",
   "metadata": {},
   "outputs": [
    {
     "name": "stderr",
     "output_type": "stream",
     "text": [
      "                                                                                \r"
     ]
    },
    {
     "name": "stdout",
     "output_type": "stream",
     "text": [
      "+-------+---------+-----------+---------------+----+-----+---------+-----------+-------+-----------+---+\n",
      "|Consumo|Cilindros|Cilindradas|RelEixoTraseiro|Peso|Tempo|TipoMotor|Transmissao|Marchas|Carburadors| HP|\n",
      "+-------+---------+-----------+---------------+----+-----+---------+-----------+-------+-----------+---+\n",
      "|     21|        6|        160|             39| 262| 1646|        0|          1|      4|          4|110|\n",
      "|     21|        6|        160|             39|2875| 1702|        0|          1|      4|          4|110|\n",
      "|    228|        4|        108|            385| 232| 1861|        1|          1|      4|          1| 93|\n",
      "|    214|        6|        258|            308|3215| 1944|        1|          0|      3|          1|110|\n",
      "|    187|        8|        360|            315| 344| 1702|        0|          0|      3|          2|175|\n",
      "|    181|        6|        225|            276| 346| 2022|        1|          0|      3|          1|105|\n",
      "|    143|        8|        360|            321| 357| 1584|        0|          0|      3|          4|245|\n",
      "|    244|        4|       1467|            369| 319|   20|        1|          0|      4|          2| 62|\n",
      "|    228|        4|       1408|            392| 315|  229|        1|          0|      4|          2| 95|\n",
      "|    192|        6|       1676|            392| 344|  183|        1|          0|      4|          4|123|\n",
      "|    178|        6|       1676|            392| 344|  189|        1|          0|      4|          4|123|\n",
      "|    164|        8|       2758|            307| 407|  174|        0|          0|      3|          3|180|\n",
      "|    173|        8|       2758|            307| 373|  176|        0|          0|      3|          3|180|\n",
      "|    152|        8|       2758|            307| 378|   18|        0|          0|      3|          3|180|\n",
      "|    104|        8|        472|            293| 525| 1798|        0|          0|      3|          4|205|\n",
      "|    104|        8|        460|              3|5424| 1782|        0|          0|      3|          4|215|\n",
      "|    147|        8|        440|            323|5345| 1742|        0|          0|      3|          4|230|\n",
      "|    324|        4|        787|            408|  22| 1947|        1|          1|      4|          1| 66|\n",
      "|    304|        4|        757|            493|1615| 1852|        1|          1|      4|          2| 52|\n",
      "|    339|        4|        711|            422|1835|  199|        1|          1|      4|          1| 65|\n",
      "+-------+---------+-----------+---------------+----+-----+---------+-----------+-------+-----------+---+\n",
      "only showing top 20 rows\n",
      "\n"
     ]
    }
   ],
   "source": [
    "carros_temp = spark.read.csv(\"/home/elvin/download/Carros.csv\", inferSchema=True, header=True, sep=\";\")\n",
    "carros_temp.show()"
   ]
  },
  {
   "cell_type": "code",
   "execution_count": 5,
   "id": "8ef180f3-ab58-48f6-b73f-300a7801a5f6",
   "metadata": {},
   "outputs": [
    {
     "name": "stdout",
     "output_type": "stream",
     "text": [
      "+-------+---------+-----------+---+\n",
      "|Consumo|Cilindros|Cilindradas| HP|\n",
      "+-------+---------+-----------+---+\n",
      "|     21|        6|        160|110|\n",
      "|     21|        6|        160|110|\n",
      "|    228|        4|        108| 93|\n",
      "|    214|        6|        258|110|\n",
      "|    187|        8|        360|175|\n",
      "|    181|        6|        225|105|\n",
      "|    143|        8|        360|245|\n",
      "|    244|        4|       1467| 62|\n",
      "|    228|        4|       1408| 95|\n",
      "|    192|        6|       1676|123|\n",
      "|    178|        6|       1676|123|\n",
      "|    164|        8|       2758|180|\n",
      "|    173|        8|       2758|180|\n",
      "|    152|        8|       2758|180|\n",
      "|    104|        8|        472|205|\n",
      "|    104|        8|        460|215|\n",
      "|    147|        8|        440|230|\n",
      "|    324|        4|        787| 66|\n",
      "|    304|        4|        757| 52|\n",
      "|    339|        4|        711| 65|\n",
      "+-------+---------+-----------+---+\n",
      "only showing top 20 rows\n",
      "\n"
     ]
    }
   ],
   "source": [
    "carros = carros_temp.select(\"Consumo\", \"Cilindros\", \"Cilindradas\", \"HP\")\n",
    "carros.show()"
   ]
  },
  {
   "cell_type": "code",
   "execution_count": 7,
   "id": "f8bea376-fbc3-46a3-ab7a-63bced999bad",
   "metadata": {},
   "outputs": [
    {
     "name": "stdout",
     "output_type": "stream",
     "text": [
      "+-------+---------+-----------+---+------------------+\n",
      "|Consumo|Cilindros|Cilindradas| HP|   caracteristicas|\n",
      "+-------+---------+-----------+---+------------------+\n",
      "|     21|        6|        160|110|  [21.0,6.0,160.0]|\n",
      "|     21|        6|        160|110|  [21.0,6.0,160.0]|\n",
      "|    228|        4|        108| 93| [228.0,4.0,108.0]|\n",
      "|    214|        6|        258|110| [214.0,6.0,258.0]|\n",
      "|    187|        8|        360|175| [187.0,8.0,360.0]|\n",
      "|    181|        6|        225|105| [181.0,6.0,225.0]|\n",
      "|    143|        8|        360|245| [143.0,8.0,360.0]|\n",
      "|    244|        4|       1467| 62|[244.0,4.0,1467.0]|\n",
      "|    228|        4|       1408| 95|[228.0,4.0,1408.0]|\n",
      "|    192|        6|       1676|123|[192.0,6.0,1676.0]|\n",
      "|    178|        6|       1676|123|[178.0,6.0,1676.0]|\n",
      "|    164|        8|       2758|180|[164.0,8.0,2758.0]|\n",
      "|    173|        8|       2758|180|[173.0,8.0,2758.0]|\n",
      "|    152|        8|       2758|180|[152.0,8.0,2758.0]|\n",
      "|    104|        8|        472|205| [104.0,8.0,472.0]|\n",
      "|    104|        8|        460|215| [104.0,8.0,460.0]|\n",
      "|    147|        8|        440|230| [147.0,8.0,440.0]|\n",
      "|    324|        4|        787| 66| [324.0,4.0,787.0]|\n",
      "|    304|        4|        757| 52| [304.0,4.0,757.0]|\n",
      "|    339|        4|        711| 65| [339.0,4.0,711.0]|\n",
      "+-------+---------+-----------+---+------------------+\n",
      "only showing top 20 rows\n",
      "\n"
     ]
    }
   ],
   "source": [
    "vect_caracteristicas = VectorAssembler(inputCols=[('Consumo'), ('Cilindros'), ('Cilindradas')], outputCol='caracteristicas')\n",
    "vect_carros_treino = vect_caracteristicas.transform(carros)\n",
    "vect_carros_treino.show()"
   ]
  },
  {
   "cell_type": "code",
   "execution_count": 9,
   "id": "09f20dcd-d401-49bc-8835-27d4d66a47d2",
   "metadata": {},
   "outputs": [
    {
     "name": "stderr",
     "output_type": "stream",
     "text": [
      "23/09/20 07:35:38 WARN Instrumentation: [12e11da9] regParam is zero, which might cause numerical instability and overfitting.\n"
     ]
    }
   ],
   "source": [
    "reg_lin = LinearRegression(featuresCol='caracteristicas', labelCol='HP')\n",
    "modelo = reg_lin.fit(vect_carros_treino)"
   ]
  },
  {
   "cell_type": "markdown",
   "id": "83c59876-455e-4ad5-a645-1073137a65d7",
   "metadata": {},
   "source": [
    "**Cria os estágios do pipeline**"
   ]
  },
  {
   "cell_type": "code",
   "execution_count": 10,
   "id": "4536801d-aaf2-4ec6-992c-41ced67f7761",
   "metadata": {},
   "outputs": [],
   "source": [
    "from pyspark.ml import Pipeline"
   ]
  },
  {
   "cell_type": "code",
   "execution_count": 13,
   "id": "8153da67-c1a2-4c1c-83fa-521a78c97b9c",
   "metadata": {},
   "outputs": [
    {
     "name": "stderr",
     "output_type": "stream",
     "text": [
      "23/09/20 07:38:45 WARN Instrumentation: [4baf43ff] regParam is zero, which might cause numerical instability and overfitting.\n"
     ]
    },
    {
     "name": "stdout",
     "output_type": "stream",
     "text": [
      "+-------+---------+-----------+---+------------------+------------------+\n",
      "|Consumo|Cilindros|Cilindradas| HP|   caracteristicas|        prediction|\n",
      "+-------+---------+-----------+---+------------------+------------------+\n",
      "|     21|        6|        160|110|  [21.0,6.0,160.0]|162.32154816816646|\n",
      "|     21|        6|        160|110|  [21.0,6.0,160.0]|162.32154816816646|\n",
      "|    228|        4|        108| 93| [228.0,4.0,108.0]| 82.51715587712931|\n",
      "|    214|        6|        258|110| [214.0,6.0,258.0]|141.86680518718754|\n",
      "|    187|        8|        360|175| [187.0,8.0,360.0]|202.93528239714834|\n",
      "|    181|        6|        225|105| [181.0,6.0,225.0]| 145.4980634611832|\n",
      "|    143|        8|        360|245| [143.0,8.0,360.0]|   207.41448530972|\n",
      "|    244|        4|       1467| 62|[244.0,4.0,1467.0]| 69.69282676584851|\n",
      "|    228|        4|       1408| 95|[228.0,4.0,1408.0]| 71.80767356085781|\n",
      "|    192|        6|       1676|123|[192.0,6.0,1676.0]|132.42483285541724|\n",
      "|    178|        6|       1676|123|[178.0,6.0,1676.0]| 133.8500337821446|\n",
      "|    164|        8|       2758|180|[164.0,8.0,2758.0]|185.52180807776818|\n",
      "|    173|        8|       2758|180|[173.0,8.0,2758.0]|184.60560748201488|\n",
      "|    152|        8|       2758|180|[152.0,8.0,2758.0]| 186.7434088721059|\n",
      "|    104|        8|        472|205| [104.0,8.0,472.0]| 210.4620247994542|\n",
      "|    104|        8|        460|215| [104.0,8.0,460.0]|210.56088155929672|\n",
      "|    147|        8|        440|230| [147.0,8.0,440.0]|206.34823997932406|\n",
      "|    324|        4|        787| 66| [324.0,4.0,787.0]| 67.15070452800569|\n",
      "|    304|        4|        757| 52| [304.0,4.0,757.0]| 69.43384775150815|\n",
      "|    339|        4|        711| 65| [339.0,4.0,711.0]| 66.24979634741939|\n",
      "+-------+---------+-----------+---+------------------+------------------+\n",
      "only showing top 20 rows\n",
      "\n"
     ]
    }
   ],
   "source": [
    "pipeline = Pipeline(stages=[vect_caracteristicas, reg_lin])\n",
    "pipeline_model = pipeline.fit(carros)\n",
    "previsao = pipeline_model.transform(carros)\n",
    "previsao.show()"
   ]
  }
 ],
 "metadata": {
  "kernelspec": {
   "display_name": "Python 3 (ipykernel)",
   "language": "python",
   "name": "python3"
  },
  "language_info": {
   "codemirror_mode": {
    "name": "ipython",
    "version": 3
   },
   "file_extension": ".py",
   "mimetype": "text/x-python",
   "name": "python",
   "nbconvert_exporter": "python",
   "pygments_lexer": "ipython3",
   "version": "3.11.5"
  }
 },
 "nbformat": 4,
 "nbformat_minor": 5
}
