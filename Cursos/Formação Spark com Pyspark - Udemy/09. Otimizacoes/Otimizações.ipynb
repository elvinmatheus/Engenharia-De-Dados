{
 "cells": [
  {
   "cell_type": "markdown",
   "id": "fd84455a-c629-4530-972e-67aa8957f883",
   "metadata": {},
   "source": [
    "# Particionamento e Bucketing"
   ]
  },
  {
   "cell_type": "code",
   "execution_count": 1,
   "id": "6448efad-5f91-4749-9f5a-bf833319d374",
   "metadata": {},
   "outputs": [
    {
     "name": "stderr",
     "output_type": "stream",
     "text": [
      "23/09/23 11:59:10 WARN Utils: Your hostname, elvin-Aspire-E1-571 resolves to a loopback address: 127.0.1.1; using 192.168.190.183 instead (on interface wlp3s0)\n",
      "23/09/23 11:59:10 WARN Utils: Set SPARK_LOCAL_IP if you need to bind to another address\n",
      "Setting default log level to \"WARN\".\n",
      "To adjust logging level use sc.setLogLevel(newLevel). For SparkR, use setLogLevel(newLevel).\n",
      "23/09/23 11:59:11 WARN NativeCodeLoader: Unable to load native-hadoop library for your platform... using builtin-java classes where applicable\n"
     ]
    }
   ],
   "source": [
    "from pyspark.sql import SparkSession\n",
    "from pyspark.sql.types import * \n",
    "\n",
    "spark = SparkSession.builder.master('local[*]').getOrCreate()"
   ]
  },
  {
   "cell_type": "code",
   "execution_count": 2,
   "id": "c01fc78b-d7cf-4f47-9388-acfedfb87882",
   "metadata": {},
   "outputs": [
    {
     "name": "stdout",
     "output_type": "stream",
     "text": [
      "+---------+\n",
      "|namespace|\n",
      "+---------+\n",
      "|  default|\n",
      "+---------+\n",
      "\n"
     ]
    }
   ],
   "source": [
    "spark.sql(\"show databases\").show()"
   ]
  },
  {
   "cell_type": "code",
   "execution_count": null,
   "id": "09e14e23-e603-4eb7-8613-2dfb9ef4729d",
   "metadata": {},
   "outputs": [],
   "source": [
    "spark.sql(\"create database desp\")\n",
    "spark.sql(\"use database desp\")\n",
    "\n",
    "desp_schema = \"id INT, nome STRING, status STRING, cidade STRING, vendas INT, data STRING\"\n",
    "desp = spark.read.csv(\"/home/elvin/Documents/Engenharia-De-Dados/Cursos/Formação Spark com Pyspark - Udemy/04. Spark SQL/despachantes.csv\", header=False, schema=desp_schema)\n",
    "\n",
    "desp.write.saveAsTable(\"Despachantes\")"
   ]
  },
  {
   "cell_type": "code",
   "execution_count": 6,
   "id": "f32b5d15-99ef-4051-9a3c-72f28dfdc599",
   "metadata": {},
   "outputs": [
    {
     "name": "stdout",
     "output_type": "stream",
     "text": [
      "+---------+------------+-----------+\n",
      "|namespace|   tableName|isTemporary|\n",
      "+---------+------------+-----------+\n",
      "|     desp|despachantes|      false|\n",
      "+---------+------------+-----------+\n",
      "\n"
     ]
    }
   ],
   "source": [
    "spark.sql(\"show tables\").show()"
   ]
  },
  {
   "cell_type": "code",
   "execution_count": 7,
   "id": "160c58bf-ec8c-4749-bd0b-fd6671f317da",
   "metadata": {},
   "outputs": [
    {
     "name": "stderr",
     "output_type": "stream",
     "text": [
      "                                                                                \r"
     ]
    }
   ],
   "source": [
    "churn = spark.read.csv(\"/home/elvin/download/Churn.csv\", header=True, inferSchema=True, sep=\";\")"
   ]
  },
  {
   "cell_type": "code",
   "execution_count": 8,
   "id": "3043bc88-bae1-42c9-97a7-859373a5451a",
   "metadata": {},
   "outputs": [
    {
     "name": "stdout",
     "output_type": "stream",
     "text": [
      "+-----------+---------+------+---+------+--------+-------------+---------+--------------+---------------+------+\n",
      "|CreditScore|Geography|Gender|Age|Tenure| Balance|NumOfProducts|HasCrCard|IsActiveMember|EstimatedSalary|Exited|\n",
      "+-----------+---------+------+---+------+--------+-------------+---------+--------------+---------------+------+\n",
      "|        619|   France|Female| 42|     2|       0|            1|        1|             1|       10134888|     1|\n",
      "|        608|    Spain|Female| 41|     1| 8380786|            1|        0|             1|       11254258|     0|\n",
      "|        502|   France|Female| 42|     8| 1596608|            3|        1|             0|       11393157|     1|\n",
      "|        699|   France|Female| 39|     1|       0|            2|        0|             0|        9382663|     0|\n",
      "|        850|    Spain|Female| 43|     2|12551082|            1|        1|             1|         790841|     0|\n",
      "|        645|    Spain|  Male| 44|     8|11375578|            2|        1|             0|       14975671|     1|\n",
      "|        822|   France|  Male| 50|     7|       0|            2|        1|             1|         100628|     0|\n",
      "|        376|  Germany|Female| 29|     4|11504674|            4|        1|             0|       11934688|     1|\n",
      "|        501|   France|  Male| 44|     4|14205107|            2|        0|             1|         749405|     0|\n",
      "|        684|   France|  Male| 27|     2|13460388|            1|        1|             1|        7172573|     0|\n",
      "|        528|   France|  Male| 31|     6|10201672|            2|        0|             0|        8018112|     0|\n",
      "|        497|    Spain|  Male| 24|     3|       0|            2|        1|             0|        7639001|     0|\n",
      "|        476|   France|Female| 34|    10|       0|            2|        1|             0|        2626098|     0|\n",
      "|        549|   France|Female| 25|     5|       0|            2|        0|             0|       19085779|     0|\n",
      "|        635|    Spain|Female| 35|     7|       0|            2|        1|             1|        6595165|     0|\n",
      "|        616|  Germany|  Male| 45|     3|14312941|            2|        0|             1|        6432726|     0|\n",
      "|        653|  Germany|  Male| 58|     1|13260288|            1|        1|             0|         509767|     1|\n",
      "|        549|    Spain|Female| 24|     9|       0|            2|        1|             1|        1440641|     0|\n",
      "|        587|    Spain|  Male| 45|     6|       0|            1|        0|             0|       15868481|     0|\n",
      "|        726|   France|Female| 24|     6|       0|            2|        1|             1|        5472403|     0|\n",
      "+-----------+---------+------+---+------+--------+-------------+---------+--------------+---------------+------+\n",
      "only showing top 20 rows\n",
      "\n"
     ]
    }
   ],
   "source": [
    "churn.show()"
   ]
  },
  {
   "cell_type": "code",
   "execution_count": 9,
   "id": "36d99225-c7b3-48a8-b995-1b6874cb8da2",
   "metadata": {},
   "outputs": [
    {
     "name": "stderr",
     "output_type": "stream",
     "text": [
      "                                                                                \r"
     ]
    }
   ],
   "source": [
    "churn.write.partitionBy(\"Geography\").saveAsTable(\"Churn_geo\")"
   ]
  },
  {
   "cell_type": "code",
   "execution_count": 10,
   "id": "7c8f91be-228f-4143-866b-dd62ed402847",
   "metadata": {},
   "outputs": [
    {
     "name": "stdout",
     "output_type": "stream",
     "text": [
      "+-----------+------+---+------+--------+-------------+---------+--------------+---------------+------+---------+\n",
      "|CreditScore|Gender|Age|Tenure| Balance|NumOfProducts|HasCrCard|IsActiveMember|EstimatedSalary|Exited|Geography|\n",
      "+-----------+------+---+------+--------+-------------+---------+--------------+---------------+------+---------+\n",
      "|        619|Female| 42|     2|       0|            1|        1|             1|       10134888|     1|   France|\n",
      "|        502|Female| 42|     8| 1596608|            3|        1|             0|       11393157|     1|   France|\n",
      "|        699|Female| 39|     1|       0|            2|        0|             0|        9382663|     0|   France|\n",
      "|        822|  Male| 50|     7|       0|            2|        1|             1|         100628|     0|   France|\n",
      "|        501|  Male| 44|     4|14205107|            2|        0|             1|         749405|     0|   France|\n",
      "|        684|  Male| 27|     2|13460388|            1|        1|             1|        7172573|     0|   France|\n",
      "|        528|  Male| 31|     6|10201672|            2|        0|             0|        8018112|     0|   France|\n",
      "|        476|Female| 34|    10|       0|            2|        1|             0|        2626098|     0|   France|\n",
      "|        549|Female| 25|     5|       0|            2|        0|             0|       19085779|     0|   France|\n",
      "|        726|Female| 24|     6|       0|            2|        1|             1|        5472403|     0|   France|\n",
      "|        732|  Male| 41|     8|       0|            2|        1|             1|       17088617|     0|   France|\n",
      "|        669|  Male| 46|     3|       0|            2|        0|             1|         848775|     0|   France|\n",
      "|        846|Female| 38|     5|       0|            1|        1|             1|       18761616|     0|   France|\n",
      "|        577|  Male| 25|     3|       0|            2|        0|             1|       12450829|     0|   France|\n",
      "|        571|  Male| 44|     9|       0|            2|        0|             0|        3843335|     0|   France|\n",
      "|        411|  Male| 29|     0| 5969717|            2|        1|             1|        5348321|     0|   France|\n",
      "|        533|  Male| 36|     7|  853117|            1|        0|             1|       15673191|     0|   France|\n",
      "|        475|Female| 45|     0|13426404|            1|        1|             0|        2782299|     1|   France|\n",
      "|        850|  Male| 36|     7|       0|            1|        1|             1|         408129|     0|   France|\n",
      "|        465|Female| 51|     8|12252232|            1|        0|             0|       18129765|     1|   France|\n",
      "+-----------+------+---+------+--------+-------------+---------+--------------+---------------+------+---------+\n",
      "only showing top 20 rows\n",
      "\n"
     ]
    }
   ],
   "source": [
    "spark.sql(\"select * from Churn_geo\").show()"
   ]
  },
  {
   "cell_type": "code",
   "execution_count": 12,
   "id": "1797e91c-33b8-4616-b4a3-01ccdc8427fd",
   "metadata": {},
   "outputs": [],
   "source": [
    "churn.write.bucketBy(3, \"Geography\").saveAsTable(\"Churn_geo2\")"
   ]
  },
  {
   "cell_type": "code",
   "execution_count": 13,
   "id": "2068d060-fd7e-4a37-be36-83c034761254",
   "metadata": {},
   "outputs": [
    {
     "name": "stdout",
     "output_type": "stream",
     "text": [
      "+-----------+---------+------+---+------+--------+-------------+---------+--------------+---------------+------+\n",
      "|CreditScore|Geography|Gender|Age|Tenure| Balance|NumOfProducts|HasCrCard|IsActiveMember|EstimatedSalary|Exited|\n",
      "+-----------+---------+------+---+------+--------+-------------+---------+--------------+---------------+------+\n",
      "|        619|   France|Female| 42|     2|       0|            1|        1|             1|       10134888|     1|\n",
      "|        608|    Spain|Female| 41|     1| 8380786|            1|        0|             1|       11254258|     0|\n",
      "|        502|   France|Female| 42|     8| 1596608|            3|        1|             0|       11393157|     1|\n",
      "|        699|   France|Female| 39|     1|       0|            2|        0|             0|        9382663|     0|\n",
      "|        850|    Spain|Female| 43|     2|12551082|            1|        1|             1|         790841|     0|\n",
      "|        645|    Spain|  Male| 44|     8|11375578|            2|        1|             0|       14975671|     1|\n",
      "|        822|   France|  Male| 50|     7|       0|            2|        1|             1|         100628|     0|\n",
      "|        501|   France|  Male| 44|     4|14205107|            2|        0|             1|         749405|     0|\n",
      "|        684|   France|  Male| 27|     2|13460388|            1|        1|             1|        7172573|     0|\n",
      "|        528|   France|  Male| 31|     6|10201672|            2|        0|             0|        8018112|     0|\n",
      "|        497|    Spain|  Male| 24|     3|       0|            2|        1|             0|        7639001|     0|\n",
      "|        476|   France|Female| 34|    10|       0|            2|        1|             0|        2626098|     0|\n",
      "|        549|   France|Female| 25|     5|       0|            2|        0|             0|       19085779|     0|\n",
      "|        635|    Spain|Female| 35|     7|       0|            2|        1|             1|        6595165|     0|\n",
      "|        549|    Spain|Female| 24|     9|       0|            2|        1|             1|        1440641|     0|\n",
      "|        587|    Spain|  Male| 45|     6|       0|            1|        0|             0|       15868481|     0|\n",
      "|        726|   France|Female| 24|     6|       0|            2|        1|             1|        5472403|     0|\n",
      "|        732|   France|  Male| 41|     8|       0|            2|        1|             1|       17088617|     0|\n",
      "|        636|    Spain|Female| 32|     8|       0|            2|        1|             0|       13855546|     0|\n",
      "|        510|    Spain|Female| 38|     4|       0|            1|        1|             0|       11891353|     1|\n",
      "+-----------+---------+------+---+------+--------+-------------+---------+--------------+---------------+------+\n",
      "only showing top 20 rows\n",
      "\n"
     ]
    }
   ],
   "source": [
    "spark.sql(\"select * from Churn_geo2\").show()"
   ]
  },
  {
   "cell_type": "markdown",
   "id": "280b2dfa-c966-47ba-9b6a-ed9e411f22fa",
   "metadata": {},
   "source": [
    "# Cache e Persistência"
   ]
  },
  {
   "cell_type": "code",
   "execution_count": 14,
   "id": "9aea082f-de6f-4d60-9186-3d98113a5413",
   "metadata": {},
   "outputs": [],
   "source": [
    "from pyspark import StorageLevel"
   ]
  },
  {
   "cell_type": "code",
   "execution_count": 15,
   "id": "7471981b-ec00-474f-ad09-26bf98c1ddf9",
   "metadata": {},
   "outputs": [
    {
     "name": "stdout",
     "output_type": "stream",
     "text": [
      "+---------+------------+-----------+\n",
      "|namespace|   tableName|isTemporary|\n",
      "+---------+------------+-----------+\n",
      "|     desp|   churn_geo|      false|\n",
      "|     desp|  churn_geo2|      false|\n",
      "|     desp|despachantes|      false|\n",
      "+---------+------------+-----------+\n",
      "\n"
     ]
    }
   ],
   "source": [
    "spark.sql(\"use desp\")\n",
    "spark.sql(\"show tables\").show()"
   ]
  },
  {
   "cell_type": "code",
   "execution_count": 16,
   "id": "017e3997-2200-49ee-96d1-136eef030f77",
   "metadata": {},
   "outputs": [
    {
     "name": "stdout",
     "output_type": "stream",
     "text": [
      "+---+----------------+------+-------------+------+----------+\n",
      "| id|            nome|status|       cidade|vendas|      data|\n",
      "+---+----------------+------+-------------+------+----------+\n",
      "|  1|Carminda Pestana| Ativo|  Santa Maria|    23|2020-08-11|\n",
      "|  2| Deolinda Vilela| Ativo|Novo Hamburgo|    34|2020-03-05|\n",
      "+---+----------------+------+-------------+------+----------+\n",
      "only showing top 2 rows\n",
      "\n"
     ]
    }
   ],
   "source": [
    "df = spark.sql(\"select * from despachantes\")\n",
    "df.show(2)"
   ]
  },
  {
   "cell_type": "code",
   "execution_count": 17,
   "id": "188f82c0-3937-4126-a8b3-aebd354e092d",
   "metadata": {},
   "outputs": [
    {
     "data": {
      "text/plain": [
       "StorageLevel(False, False, False, False, 1)"
      ]
     },
     "execution_count": 17,
     "metadata": {},
     "output_type": "execute_result"
    }
   ],
   "source": [
    "df.storageLevel #disco, memória, offheap, serializado, replicação"
   ]
  },
  {
   "cell_type": "code",
   "execution_count": 18,
   "id": "3a39c4a3-aecd-4555-a40f-507e1dddabeb",
   "metadata": {},
   "outputs": [
    {
     "data": {
      "text/plain": [
       "DataFrame[id: int, nome: string, status: string, cidade: string, vendas: int, data: string]"
      ]
     },
     "execution_count": 18,
     "metadata": {},
     "output_type": "execute_result"
    }
   ],
   "source": [
    "df.cache()"
   ]
  },
  {
   "cell_type": "code",
   "execution_count": 19,
   "id": "6b275c70-cf4f-489a-b8e8-34612a002408",
   "metadata": {},
   "outputs": [
    {
     "data": {
      "text/plain": [
       "StorageLevel(True, True, False, True, 1)"
      ]
     },
     "execution_count": 19,
     "metadata": {},
     "output_type": "execute_result"
    }
   ],
   "source": [
    "df.storageLevel"
   ]
  },
  {
   "cell_type": "code",
   "execution_count": 21,
   "id": "b5042de1-8ce2-4c0c-8bd9-d84b48f78d6a",
   "metadata": {},
   "outputs": [
    {
     "name": "stderr",
     "output_type": "stream",
     "text": [
      "23/09/23 12:40:26 WARN CacheManager: Asked to cache already cached data.\n"
     ]
    },
    {
     "data": {
      "text/plain": [
       "DataFrame[id: int, nome: string, status: string, cidade: string, vendas: int, data: string]"
      ]
     },
     "execution_count": 21,
     "metadata": {},
     "output_type": "execute_result"
    }
   ],
   "source": [
    "df.persist(StorageLevel.DISK_ONLY)"
   ]
  },
  {
   "cell_type": "code",
   "execution_count": 22,
   "id": "69193d23-1b76-4647-a565-76891ef7f3f1",
   "metadata": {},
   "outputs": [
    {
     "data": {
      "text/plain": [
       "DataFrame[id: int, nome: string, status: string, cidade: string, vendas: int, data: string]"
      ]
     },
     "execution_count": 22,
     "metadata": {},
     "output_type": "execute_result"
    }
   ],
   "source": [
    "df.unpersist()"
   ]
  },
  {
   "cell_type": "code",
   "execution_count": 24,
   "id": "d66fb32e-2e1f-42a3-86ea-2064639fe4bf",
   "metadata": {},
   "outputs": [
    {
     "data": {
      "text/plain": [
       "DataFrame[id: int, nome: string, status: string, cidade: string, vendas: int, data: string]"
      ]
     },
     "execution_count": 24,
     "metadata": {},
     "output_type": "execute_result"
    }
   ],
   "source": [
    "df.persist(StorageLevel.DISK_ONLY)"
   ]
  },
  {
   "cell_type": "code",
   "execution_count": 25,
   "id": "d61d133a-7036-464d-9d7a-8df4b9589f59",
   "metadata": {},
   "outputs": [
    {
     "data": {
      "text/plain": [
       "StorageLevel(True, False, False, False, 1)"
      ]
     },
     "execution_count": 25,
     "metadata": {},
     "output_type": "execute_result"
    }
   ],
   "source": [
    "df.storageLevel"
   ]
  }
 ],
 "metadata": {
  "kernelspec": {
   "display_name": "Python 3 (ipykernel)",
   "language": "python",
   "name": "python3"
  },
  "language_info": {
   "codemirror_mode": {
    "name": "ipython",
    "version": 3
   },
   "file_extension": ".py",
   "mimetype": "text/x-python",
   "name": "python",
   "nbconvert_exporter": "python",
   "pygments_lexer": "ipython3",
   "version": "3.11.5"
  }
 },
 "nbformat": 4,
 "nbformat_minor": 5
}
